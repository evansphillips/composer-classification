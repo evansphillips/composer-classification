{
  "cells": [
    {
      "cell_type": "code",
      "execution_count": 9,
      "metadata": {
        "id": "v28ywgrn6moN"
      },
      "outputs": [],
      "source": [
        "import numpy as np\n",
        "import re\n",
        "import scipy as sp\n",
        "import pandas as pd\n",
        "import matplotlib.pyplot as plt\n",
        "import os\n",
        "import gc\n",
        "from pathlib import Path\n",
        "\n",
        "# imports for audio processing/visualization\n",
        "import librosa\n",
        "import librosa.display\n",
        "import IPython.display\n",
        "from librosa.feature import chroma_stft, mfcc\n",
        "\n",
        "# imports for modeling\n",
        "from sklearn.model_selection import GridSearchCV\n",
        "from sklearn.svm import SVC\n",
        "from sklearn.metrics import accuracy_score\n",
        "from sklearn.model_selection import train_test_split\n",
        "from sklearn.metrics import f1_score, confusion_matrix\n",
        "from sklearn.metrics import classification_report, confusion_matrix\n",
        "from sklearn.neural_network import MLPClassifier"
      ]
    },
    {
      "cell_type": "markdown",
      "metadata": {
        "id": "LY12p3qXfDQ3"
      },
      "source": [
        "# Exploratory Data Analysis (EDA)"
      ]
    },
    {
      "cell_type": "code",
      "execution_count": 4,
      "metadata": {
        "colab": {
          "base_uri": "https://localhost:8080/",
          "height": 206
        },
        "id": "7dr5TfXuo3yn",
        "outputId": "003925c5-58ac-45b4-c21e-034a7e5591e0"
      },
      "outputs": [
        {
          "data": {
            "text/html": [
              "<div>\n",
              "<style scoped>\n",
              "    .dataframe tbody tr th:only-of-type {\n",
              "        vertical-align: middle;\n",
              "    }\n",
              "\n",
              "    .dataframe tbody tr th {\n",
              "        vertical-align: top;\n",
              "    }\n",
              "\n",
              "    .dataframe thead th {\n",
              "        text-align: right;\n",
              "    }\n",
              "</style>\n",
              "<table border=\"1\" class=\"dataframe\">\n",
              "  <thead>\n",
              "    <tr style=\"text-align: right;\">\n",
              "      <th></th>\n",
              "      <th>id</th>\n",
              "      <th>composer</th>\n",
              "      <th>composition</th>\n",
              "      <th>movement</th>\n",
              "      <th>ensemble</th>\n",
              "      <th>source</th>\n",
              "      <th>transcriber</th>\n",
              "      <th>catalog_name</th>\n",
              "      <th>seconds</th>\n",
              "    </tr>\n",
              "  </thead>\n",
              "  <tbody>\n",
              "    <tr>\n",
              "      <th>0</th>\n",
              "      <td>1727</td>\n",
              "      <td>Schubert</td>\n",
              "      <td>Piano Quintet in A major</td>\n",
              "      <td>2. Andante</td>\n",
              "      <td>Piano Quintet</td>\n",
              "      <td>European Archive</td>\n",
              "      <td>http://tirolmusic.blogspot.com/</td>\n",
              "      <td>OP114</td>\n",
              "      <td>447</td>\n",
              "    </tr>\n",
              "    <tr>\n",
              "      <th>1</th>\n",
              "      <td>1728</td>\n",
              "      <td>Schubert</td>\n",
              "      <td>Piano Quintet in A major</td>\n",
              "      <td>3. Scherzo: Presto</td>\n",
              "      <td>Piano Quintet</td>\n",
              "      <td>European Archive</td>\n",
              "      <td>http://tirolmusic.blogspot.com/</td>\n",
              "      <td>OP114</td>\n",
              "      <td>251</td>\n",
              "    </tr>\n",
              "    <tr>\n",
              "      <th>2</th>\n",
              "      <td>1729</td>\n",
              "      <td>Schubert</td>\n",
              "      <td>Piano Quintet in A major</td>\n",
              "      <td>4. Andantino - Allegretto</td>\n",
              "      <td>Piano Quintet</td>\n",
              "      <td>European Archive</td>\n",
              "      <td>http://tirolmusic.blogspot.com/</td>\n",
              "      <td>OP114</td>\n",
              "      <td>444</td>\n",
              "    </tr>\n",
              "    <tr>\n",
              "      <th>3</th>\n",
              "      <td>1730</td>\n",
              "      <td>Schubert</td>\n",
              "      <td>Piano Quintet in A major</td>\n",
              "      <td>5. Allegro giusto</td>\n",
              "      <td>Piano Quintet</td>\n",
              "      <td>European Archive</td>\n",
              "      <td>http://tirolmusic.blogspot.com/</td>\n",
              "      <td>OP114</td>\n",
              "      <td>368</td>\n",
              "    </tr>\n",
              "    <tr>\n",
              "      <th>4</th>\n",
              "      <td>1733</td>\n",
              "      <td>Schubert</td>\n",
              "      <td>Piano Sonata in A major</td>\n",
              "      <td>2. Andantino</td>\n",
              "      <td>Solo Piano</td>\n",
              "      <td>Museopen</td>\n",
              "      <td>Segundo G. Yogore</td>\n",
              "      <td>D959</td>\n",
              "      <td>546</td>\n",
              "    </tr>\n",
              "  </tbody>\n",
              "</table>\n",
              "</div>"
            ],
            "text/plain": [
              "     id  composer               composition                   movement  \\\n",
              "0  1727  Schubert  Piano Quintet in A major                 2. Andante   \n",
              "1  1728  Schubert  Piano Quintet in A major         3. Scherzo: Presto   \n",
              "2  1729  Schubert  Piano Quintet in A major  4. Andantino - Allegretto   \n",
              "3  1730  Schubert  Piano Quintet in A major          5. Allegro giusto   \n",
              "4  1733  Schubert   Piano Sonata in A major               2. Andantino   \n",
              "\n",
              "        ensemble            source                      transcriber  \\\n",
              "0  Piano Quintet  European Archive  http://tirolmusic.blogspot.com/   \n",
              "1  Piano Quintet  European Archive  http://tirolmusic.blogspot.com/   \n",
              "2  Piano Quintet  European Archive  http://tirolmusic.blogspot.com/   \n",
              "3  Piano Quintet  European Archive  http://tirolmusic.blogspot.com/   \n",
              "4     Solo Piano          Museopen                Segundo G. Yogore   \n",
              "\n",
              "  catalog_name  seconds  \n",
              "0        OP114      447  \n",
              "1        OP114      251  \n",
              "2        OP114      444  \n",
              "3        OP114      368  \n",
              "4         D959      546  "
            ]
          },
          "execution_count": 4,
          "metadata": {},
          "output_type": "execute_result"
        }
      ],
      "source": [
        "# add \"W207 Final Project\" as a shortcut to your \"MyDrive\"\n",
        "folder = Path(\"/content/drive/MyDrive/W207 Final Project\")\n",
        "\n",
        "musicnet_meta = pd.read_csv(\"data\\musicnet_metadata.csv\")\n",
        "musicnet_meta.head()"
      ]
    },
    {
      "cell_type": "code",
      "execution_count": 5,
      "metadata": {
        "colab": {
          "base_uri": "https://localhost:8080/"
        },
        "id": "I8jPJ2h9pPn3",
        "outputId": "42f78500-ff1f-4cd1-e787-983937f36a96"
      },
      "outputs": [
        {
          "name": "stdout",
          "output_type": "stream",
          "text": [
            "121 unique songs\n"
          ]
        }
      ],
      "source": [
        "print(\"{} unique songs\".format(len(musicnet_meta['composition'].unique())))"
      ]
    },
    {
      "cell_type": "code",
      "execution_count": 11,
      "metadata": {},
      "outputs": [
        {
          "data": {
            "image/png": "[encoded data removed]",
            "text/plain": [
              "<Figure size 1000x600 with 1 Axes>"
            ]
          },
          "metadata": {},
          "output_type": "display_data"
        }
      ],
      "source": [
        "import pandas as pd\n",
        "import matplotlib.pyplot as plt\n",
        "\n",
        "# Assuming 'musicnet_meta' is your DataFrame\n",
        "musicnet_meta['movement_num'] = musicnet_meta['movement'].str.extract(r'(\\d+)').astype(int)\n",
        "\n",
        "# Group by movement_num and count occurrences\n",
        "movements = musicnet_meta.groupby(\"movement_num\")[['id']].count().reset_index().rename(columns={'id': 'count'}).sort_values('count', ascending=False)\n",
        "\n",
        "# Set figure size and create the bar chart\n",
        "fig, ax = plt.subplots(figsize=(10, 6))\n",
        "\n",
        "# Create the bar chart\n",
        "bars = plt.bar(movements['movement_num'], movements['count'], tick_label=movements['movement_num'])\n",
        "\n",
        "# Label the bars with counts and adjust their position\n",
        "for bar in bars:\n",
        "    height = bar.get_height()\n",
        "    ax.annotate(f'{height}',\n",
        "                xy=(bar.get_x() + bar.get_width() / 2, height),\n",
        "                xytext=(0, 3),  # 3 points vertical offset\n",
        "                textcoords=\"offset points\",\n",
        "                ha='center', va='bottom', size=10)\n",
        "\n",
        "# Set labels and title\n",
        "plt.title(\"Count of Movements\")\n",
        "plt.xlabel(\"Movement\")\n",
        "plt.ylabel(\"Count\")\n",
        "\n",
        "# Show the plot\n",
        "plt.show()\n"
      ]
    },
    {
      "cell_type": "code",
      "execution_count": 12,
      "metadata": {
        "colab": {
          "base_uri": "https://localhost:8080/",
          "height": 385
        },
        "id": "1ffyg3xSpkpP",
        "outputId": "27d0eb12-f636-4f99-bf9a-2b106ef091af"
      },
      "outputs": [
        {
          "data": {
            "image/png": "[encoded data removed]",
            "text/plain": [
              "<Figure size 800x500 with 1 Axes>"
            ]
          },
          "metadata": {},
          "output_type": "display_data"
        }
      ],
      "source": [
        "# graph bar chart for composer distribution\n",
        "composers = musicnet_meta.groupby(\"composer\")[['id']].count().reset_index().rename(columns={'id': 'count'}).sort_values('count', ascending=False)\n",
        "composer_dist = composers.plot(kind=\"bar\", x='composer', y='count', figsize=(8,5), legend=False)\n",
        "plt.title(\"Count of Songs per Composer\")\n",
        "plt.ylabel(\"Count\")\n",
        "plt.xticks(rotation=45)\n",
        "for p in composer_dist.patches:\n",
        "  composer_dist.annotate(p.get_height(), (p.get_x()+p.get_width()/4, p.get_height()-.5), va='bottom', size=11)"
      ]
    },
    {
      "cell_type": "code",
      "execution_count": null,
      "metadata": {},
      "outputs": [],
      "source": [
        "# Sample audio files for EDA plotting purposes\n",
        "samples_id = musicnet_meta[(musicnet_meta['movement'].str.contains('2'))&(musicnet_meta['composer'].isin(['Mozart','Schubert','Brahms','Bach','Beethoven']))].groupby('composer').first()['id']\n",
        "test_folder_ids = [filename.replace('.wav','') for filename in os.listdir(r'C:\\Users\\evans\\OneDrive\\Documents\\GitHub\\composer-classification\\data\\test_data')]\n",
        "audio_data = {}\n",
        "for id in samples_id:\n",
        "  if id in test_folder_ids:\n",
        "    data, sampling_rate = librosa.load(f'data/test_data/{id}.wav')\n",
        "  else:\n",
        "    data, sampling_rate = librosa.load(f'data/train_data/{id}.wav')\n",
        "  audio_data[id] = (data, sampling_rate)"
      ]
    },
    {
      "cell_type": "code",
      "execution_count": null,
      "metadata": {
        "colab": {
          "base_uri": "https://localhost:8080/",
          "height": 585
        },
        "id": "G3nWY-_hWqFW",
        "outputId": "df014830-73e2-403d-954b-3ef24dd219fa"
      },
      "outputs": [
        {
          "data": {
            "image/png": "[encoded data removed]",
            "text/plain": [
              "<Figure size 1728x576 with 6 Axes>"
            ]
          },
          "metadata": {
            "needs_background": "light"
          },
          "output_type": "display_data"
        }
      ],
      "source": [
        "# visualize monophonic waveform (amplitude) of the 5 composers (2nd movement); time (x-axis) is in seconds\n",
        "fig, axes = plt.subplots(3,2,figsize=(24,8))\n",
        "for i, ax in enumerate(axes.flat):\n",
        "  if i == len(axes.flat)-1:\n",
        "    ax.axis('off')\n",
        "  else:\n",
        "    composer = samples_id.index[i]\n",
        "    id = samples_id[i]\n",
        "    audio = audio_data[id][0]\n",
        "    sr = audio_data[id][1]\n",
        "    ax.set_title(composer)\n",
        "    librosa.display.waveplot(audio[:4235904], sr=sr, ax=ax) #only taking the 1st X seconds of each piece to match time axis\n",
        "plt.tight_layout()"
      ]
    },
    {
      "cell_type": "markdown",
      "metadata": {
        "id": "JX4mQwxNpq51"
      },
      "source": [
        "The large majority of songs are by Beethoven, followed by Bach and Schubert, Brahms, and Mozart. This could lead to class imbalance in our composer prediction problem."
      ]
    },
    {
      "cell_type": "code",
      "execution_count": null,
      "metadata": {
        "colab": {
          "base_uri": "https://localhost:8080/",
          "height": 479
        },
        "id": "sNRjmO7spkeP",
        "outputId": "3d2cb345-9303-4621-ef90-be9a6900e860"
      },
      "outputs": [
        {
          "data": {
            "image/png": "[encoded data removed]",
            "text/plain": [
              "<Figure size 576x360 with 1 Axes>"
            ]
          },
          "metadata": {
            "needs_background": "light"
          },
          "output_type": "display_data"
        }
      ],
      "source": [
        "# graph bar chart for composition ensemble / instrument distribution\n",
        "instrum = musicnet_meta.groupby(\"ensemble\")[[\"id\"]].count().reset_index().rename(columns={'id': 'count'}).sort_values('count', ascending=False)\n",
        "instrument_dist = instrum.plot(kind=\"bar\", x='ensemble', y='count', figsize=(8,5), legend=False)\n",
        "plt.title(\"Instruments\")\n",
        "plt.ylabel(\"Count\")\n",
        "plt.xticks(rotation=90)\n",
        "instrum.head()\n",
        "for p in instrument_dist.patches:\n",
        "  instrument_dist.annotate(p.get_height(), (p.get_x()+p.get_width()/4, p.get_height()-.5), va='bottom', size=11)"
      ]
    },
    {
      "cell_type": "markdown",
      "metadata": {
        "id": "bbWJjK7CpzT4"
      },
      "source": [
        "Majority of pieces are Solo Piano followed by String Quartet and Accompanied Violin. Some considerations are using instruments as a feature or dropping ensembles with very few pieces. Or we can drop Solo Piano (since most pieces have it)\n"
      ]
    },
    {
      "cell_type": "markdown",
      "metadata": {
        "id": "MCR4KilZfORV"
      },
      "source": [
        "# Train, Test Data Split"
      ]
    },
    {
      "cell_type": "markdown",
      "metadata": {
        "id": "xei69ZhWlep_"
      },
      "source": [
        "In classical music, each movement is stylistically distinct, and if we have an imbalanced amount of movements across composers (eg. Mozart has more movement 1 data), our model may potentially mistakenly try to learn movement differences when it really should be trying to detect stylistic differences acorss composers. To simplify the problem, we choose to only use data from movement 2, the most prevalent movement in our dataset. We also decided to only keep composers with more than 10 songs in the dataset so we can achieve a balanced dataset without crazy amounts of upsampling.\n",
        "\n",
        "The motivation behind splitting for a train and test dataset before we sample segments from each song in our data is to avoid \"seeing\" the test data during training. Since we will be sampling with replcaement while upsampling for composers with less songs, it is possible for parts of two random segments to be repeating information. We want to ensure that the test dataset is never seen beforehand so we can truly test how generalizable our model is."
      ]
    },
    {
      "cell_type": "code",
      "execution_count": null,
      "metadata": {
        "id": "v188gL6alQFy"
      },
      "outputs": [],
      "source": [
        "# filter for movement 2 and keep only the 5 most prevalent composers in the dataset\n",
        "movement_2 = musicnet_meta[musicnet_meta['movement_num'] == '2']\n",
        "music_df = movement_2[movement_2['composer'].isin(['Beethoven', 'Bach', 'Schubert', 'Mozart', 'Brahms'])].drop(columns={'source', 'transcriber', 'catalog_name', 'movement_num'})\n",
        "music_df['num_datapoints'] = music_df['seconds'] // 20 # number of non-overlapping segments we can get from each song"
      ]
    },
    {
      "cell_type": "code",
      "execution_count": null,
      "metadata": {
        "id": "n2v42f3JtT76"
      },
      "outputs": [],
      "source": [
        "# randomly sample 3 songs per composer for test set\n",
        "test_ids = []\n",
        "for i in music_df['composer'].unique():\n",
        "  test_ids.extend(music_df[music_df['composer'] == i].sample(3, replace=False, random_state=42)['id'].values)"
      ]
    },
    {
      "cell_type": "code",
      "execution_count": null,
      "metadata": {
        "colab": {
          "base_uri": "https://localhost:8080/",
          "height": 520
        },
        "id": "DoVSOoLLwDDI",
        "outputId": "78888a23-00d9-4705-e561-d967f9737276"
      },
      "outputs": [
        {
          "data": {
            "text/html": [
              "<div>\n",
              "<style scoped>\n",
              "    .dataframe tbody tr th:only-of-type {\n",
              "        vertical-align: middle;\n",
              "    }\n",
              "\n",
              "    .dataframe tbody tr th {\n",
              "        vertical-align: top;\n",
              "    }\n",
              "\n",
              "    .dataframe thead th {\n",
              "        text-align: right;\n",
              "    }\n",
              "</style>\n",
              "<table border=\"1\" class=\"dataframe\">\n",
              "  <thead>\n",
              "    <tr style=\"text-align: right;\">\n",
              "      <th></th>\n",
              "      <th>id</th>\n",
              "      <th>composer</th>\n",
              "      <th>composition</th>\n",
              "      <th>movement</th>\n",
              "      <th>ensemble</th>\n",
              "      <th>seconds</th>\n",
              "      <th>key</th>\n",
              "      <th>num_datapoints</th>\n",
              "    </tr>\n",
              "  </thead>\n",
              "  <tbody>\n",
              "    <tr>\n",
              "      <th>4</th>\n",
              "      <td>1733</td>\n",
              "      <td>Schubert</td>\n",
              "      <td>Piano Sonata in A major</td>\n",
              "      <td>2. Andantino</td>\n",
              "      <td>Solo Piano</td>\n",
              "      <td>546</td>\n",
              "      <td>A major</td>\n",
              "      <td>27</td>\n",
              "    </tr>\n",
              "    <tr>\n",
              "      <th>16</th>\n",
              "      <td>1758</td>\n",
              "      <td>Schubert</td>\n",
              "      <td>Piano Sonata in C minor</td>\n",
              "      <td>2. Adagio</td>\n",
              "      <td>Solo Piano</td>\n",
              "      <td>468</td>\n",
              "      <td>C minor</td>\n",
              "      <td>23</td>\n",
              "    </tr>\n",
              "    <tr>\n",
              "      <th>25</th>\n",
              "      <td>1772</td>\n",
              "      <td>Schubert</td>\n",
              "      <td>Piano Sonata in D-flat major</td>\n",
              "      <td>2. Andante molto</td>\n",
              "      <td>Solo Piano</td>\n",
              "      <td>417</td>\n",
              "      <td>D-flat major</td>\n",
              "      <td>20</td>\n",
              "    </tr>\n",
              "    <tr>\n",
              "      <th>31</th>\n",
              "      <td>1789</td>\n",
              "      <td>Mozart</td>\n",
              "      <td>String Quartet No 19 in C major</td>\n",
              "      <td>2. Andante cantabile</td>\n",
              "      <td>String Quartet</td>\n",
              "      <td>461</td>\n",
              "      <td>C major</td>\n",
              "      <td>23</td>\n",
              "    </tr>\n",
              "    <tr>\n",
              "      <th>35</th>\n",
              "      <td>1793</td>\n",
              "      <td>Mozart</td>\n",
              "      <td>String Quartet No 19 in C major</td>\n",
              "      <td>2. Andante cantabile</td>\n",
              "      <td>String Quartet</td>\n",
              "      <td>504</td>\n",
              "      <td>C major</td>\n",
              "      <td>25</td>\n",
              "    </tr>\n",
              "    <tr>\n",
              "      <th>49</th>\n",
              "      <td>1859</td>\n",
              "      <td>Mozart</td>\n",
              "      <td>String Quartet No 18 in A major</td>\n",
              "      <td>2. Menuetto and Trio</td>\n",
              "      <td>String Quartet</td>\n",
              "      <td>392</td>\n",
              "      <td>A major</td>\n",
              "      <td>19</td>\n",
              "    </tr>\n",
              "    <tr>\n",
              "      <th>75</th>\n",
              "      <td>2113</td>\n",
              "      <td>Brahms</td>\n",
              "      <td>Cello Sonata No 1 in E minor</td>\n",
              "      <td>2. Allegretto quasi Menuetto</td>\n",
              "      <td>Accompanied Cello</td>\n",
              "      <td>352</td>\n",
              "      <td>E minor</td>\n",
              "      <td>17</td>\n",
              "    </tr>\n",
              "    <tr>\n",
              "      <th>78</th>\n",
              "      <td>2117</td>\n",
              "      <td>Brahms</td>\n",
              "      <td>Clarinet Sonata No 1 in F minor</td>\n",
              "      <td>2. Andante un poco Adagio</td>\n",
              "      <td>Accompanied Clarinet</td>\n",
              "      <td>266</td>\n",
              "      <td>F minor</td>\n",
              "      <td>13</td>\n",
              "    </tr>\n",
              "    <tr>\n",
              "      <th>91</th>\n",
              "      <td>2155</td>\n",
              "      <td>Brahms</td>\n",
              "      <td>String Sextet No 1 in B-flat major</td>\n",
              "      <td>2. Andante, ma moderato</td>\n",
              "      <td>String Sextet</td>\n",
              "      <td>606</td>\n",
              "      <td>B-flat major</td>\n",
              "      <td>30</td>\n",
              "    </tr>\n",
              "    <tr>\n",
              "      <th>109</th>\n",
              "      <td>2195</td>\n",
              "      <td>Bach</td>\n",
              "      <td>WTK I, No. 3: Prelude and Fugue in C-sharp major</td>\n",
              "      <td>2. Fugue</td>\n",
              "      <td>Solo Piano</td>\n",
              "      <td>155</td>\n",
              "      <td>C-sharp major</td>\n",
              "      <td>7</td>\n",
              "    </tr>\n",
              "    <tr>\n",
              "      <th>125</th>\n",
              "      <td>2215</td>\n",
              "      <td>Bach</td>\n",
              "      <td>WTK I, No. 1: Prelude and Fugue in C major</td>\n",
              "      <td>2. Fugue</td>\n",
              "      <td>Solo Piano</td>\n",
              "      <td>116</td>\n",
              "      <td>C major</td>\n",
              "      <td>5</td>\n",
              "    </tr>\n",
              "    <tr>\n",
              "      <th>146</th>\n",
              "      <td>2242</td>\n",
              "      <td>Bach</td>\n",
              "      <td>Violin Sonata No 1 in G minor</td>\n",
              "      <td>2. Fuga</td>\n",
              "      <td>Solo Violin</td>\n",
              "      <td>312</td>\n",
              "      <td>G minor</td>\n",
              "      <td>15</td>\n",
              "    </tr>\n",
              "    <tr>\n",
              "      <th>238</th>\n",
              "      <td>2451</td>\n",
              "      <td>Beethoven</td>\n",
              "      <td>String Quartet No 6 in B-flat major</td>\n",
              "      <td>2. Adagio ma non troppo</td>\n",
              "      <td>String Quartet</td>\n",
              "      <td>421</td>\n",
              "      <td>B-flat major</td>\n",
              "      <td>21</td>\n",
              "    </tr>\n",
              "    <tr>\n",
              "      <th>299</th>\n",
              "      <td>2575</td>\n",
              "      <td>Beethoven</td>\n",
              "      <td>Piano Sonata No 8 in C minor</td>\n",
              "      <td>2. Adagio cantabile</td>\n",
              "      <td>Solo Piano</td>\n",
              "      <td>303</td>\n",
              "      <td>C minor</td>\n",
              "      <td>15</td>\n",
              "    </tr>\n",
              "    <tr>\n",
              "      <th>315</th>\n",
              "      <td>2614</td>\n",
              "      <td>Beethoven</td>\n",
              "      <td>Piano Sonata No 7 in D major</td>\n",
              "      <td>2. Largo e mesto</td>\n",
              "      <td>Solo Piano</td>\n",
              "      <td>635</td>\n",
              "      <td>D major</td>\n",
              "      <td>31</td>\n",
              "    </tr>\n",
              "  </tbody>\n",
              "</table>\n",
              "</div>"
            ],
            "text/plain": [
              "       id   composer  ...            key num_datapoints\n",
              "4    1733   Schubert  ...        A major             27\n",
              "16   1758   Schubert  ...        C minor             23\n",
              "25   1772   Schubert  ...   D-flat major             20\n",
              "31   1789     Mozart  ...        C major             23\n",
              "35   1793     Mozart  ...        C major             25\n",
              "49   1859     Mozart  ...        A major             19\n",
              "75   2113     Brahms  ...        E minor             17\n",
              "78   2117     Brahms  ...        F minor             13\n",
              "91   2155     Brahms  ...   B-flat major             30\n",
              "109  2195       Bach  ...  C-sharp major              7\n",
              "125  2215       Bach  ...        C major              5\n",
              "146  2242       Bach  ...        G minor             15\n",
              "238  2451  Beethoven  ...   B-flat major             21\n",
              "299  2575  Beethoven  ...        C minor             15\n",
              "315  2614  Beethoven  ...        D major             31\n",
              "\n",
              "[15 rows x 8 columns]"
            ]
          },
          "execution_count": 52,
          "metadata": {},
          "output_type": "execute_result"
        }
      ],
      "source": [
        "# creating train and test df\n",
        "test_df = music_df[music_df['id'].isin(test_ids)]\n",
        "train_df = music_df[~music_df['id'].isin(test_ids)]\n",
        "test_df"
      ]
    },
    {
      "cell_type": "markdown",
      "metadata": {
        "id": "PWXGym8yf6z6"
      },
      "source": [
        "# Data Sampling"
      ]
    },
    {
      "cell_type": "code",
      "execution_count": null,
      "metadata": {
        "id": "z_R3pYPZ6jeu"
      },
      "outputs": [],
      "source": [
        "# sampling functions\n",
        "\n",
        "def load_data(offsets, folder, id, test_folder_ids, sample_length=20):\n",
        "  \"\"\"\n",
        "  offsets: start times for each sample segment (of 1 song)\n",
        "  folder: path to the folder containing the audio files\n",
        "  id: song id\n",
        "  sample_length: duration of the sample segments in seconds; defaults to 20\n",
        "\n",
        "  helper function for sample_song function\n",
        "  returns audio data from librosa.load and sampling rate\n",
        "  \"\"\"\n",
        "  if str(id) in test_folder_ids:\n",
        "    folder = Path('/content/drive/MyDrive/W207 Final Project/musicnet_data/musicnet/musicnet/test_data')\n",
        "  filename = folder/\"{}.wav\".format(id)\n",
        "  audios = []\n",
        "  for ts in offsets:\n",
        "    audio_data, sr = librosa.load(filename, offset=ts, duration=sample_length) # sampling rate set to default = 22050\n",
        "    audios.append(audio_data)\n",
        "  return audios, sr\n",
        "\n",
        "def sample_song(df, folder, num_samples=300, sample_length=20):\n",
        "  \"\"\"\n",
        "  df: meta data dataframe (1 song per row)\n",
        "  folder: path to the folder containing the audio files (used in load_data)\n",
        "  num_samples: total number of samples we want from each composer\n",
        "  sample_length: number (in seconds) indicating the length of each sample taken; deafult to 20 seconds\n",
        "\n",
        "  returns a dictionary with a list of librosa.load audio data, offsets, id, composition/movement, and composer for each row in df\n",
        "  \"\"\"\n",
        "  test_folder_ids = [filename.replace('.wav','') for filename in os.listdir('/content/drive/MyDrive/W207 Final Project/musicnet_data/musicnet/musicnet/test_data')] # keep track of which IDs need to be sampled from test_data folder\n",
        "  samples = {'id':[], 'composer':[], 'composition':[], 'offsets':[], 'audio_data':[]}\n",
        "  np.random.seed(1337207)\n",
        "\n",
        "  # sample segments of songs from each composer\n",
        "  for composer in ['Bach', 'Mozart', 'Brahms', 'Beethoven', 'Schubert']:\n",
        "    composer_df = df[df['composer']==composer]\n",
        "    if composer_df.empty:\n",
        "      continue\n",
        "\n",
        "    # how much more data we want to sample from the composer; sample_multiple > 1 = upsampling, sample_multiple <= 1 = downsampling\n",
        "    sample_multiple = num_samples / (composer_df['num_datapoints'].sum())\n",
        "    n = (composer_df['num_datapoints'] * sample_multiple).astype(int)\n",
        "    repl_condition = sample_multiple >= 1\n",
        "\n",
        "    # sample start times for each sample segment\n",
        "    if repl_condition: # sample w/ replacement (upsampling)\n",
        "      offsets = np.array([np.random.choice(composer_df.loc[composer_df.index[j], 'seconds']  - sample_length + 1, size=num_samples, replace=repl_condition) for j, num_samples in enumerate(n)])\n",
        "    else: # sample w/o replacement (downsampling)\n",
        "      offset_for_song = [np.random.choice(composer_df.loc[composer_df.index[j], 'num_datapoints'], size=num_samples, replace=repl_condition) for j, num_samples in enumerate(n)]\n",
        "      offsets = np.array(offset_for_song) * sample_length\n",
        "\n",
        "    # load audio data & add information to the dictionary we are returning\n",
        "    for i in range(len(composer_df)):\n",
        "      idx = composer_df.index[i]\n",
        "      id = composer_df.loc[idx, 'id']\n",
        "      audio_data, sr = load_data(offsets[i], folder, id, test_folder_ids, sample_length) # audio_data is a list of arrays, where the arrays are segments of audio samples in a song\n",
        "      samples['id'].extend([id] * len(offsets[i])) # {'id': [1727,1727,1727,123,123,123], 'offsets': [0, 20, 20, 1, 17, 23],'composer':[S,S,S,M,M,M], 'composition':[1,1,1,2,2,2],'audio_data': [[0,0,0], [1,1,1], [2,2,2], [3,3,3]]}\n",
        "      samples['composer'].extend([composer] * len(offsets[i]))\n",
        "      samples['composition'].extend([\"{}-{}\".format(composer_df.loc[idx, 'composition'], composer_df.loc[idx, 'movement'])] * len(offsets[i]))\n",
        "      samples['offsets'].extend(offsets[i])\n",
        "      samples['audio_data'].extend(audio_data) # list of lists\n",
        "\n",
        "  samples['sample_length'] = sample_length\n",
        "  samples['sampling_rate'] = sr\n",
        "\n",
        "  return samples"
      ]
    },
    {
      "cell_type": "code",
      "execution_count": null,
      "metadata": {
        "colab": {
          "base_uri": "https://localhost:8080/"
        },
        "id": "bLR01anL-GIv",
        "outputId": "4e01554a-8ebd-43f7-a42a-cda33c2bdbc7"
      },
      "outputs": [
        {
          "name": "stderr",
          "output_type": "stream",
          "text": [
            "/usr/local/lib/python3.7/dist-packages/ipykernel_launcher.py:48: VisibleDeprecationWarning: Creating an ndarray from ragged nested sequences (which is a list-or-tuple of lists-or-tuples-or ndarrays with different lengths or shapes) is deprecated. If you meant to do this, you must specify 'dtype=object' when creating the ndarray\n"
          ]
        }
      ],
      "source": [
        "# sample segments from train and test data songs\n",
        "train_path = Path('/content/drive/MyDrive/W207 Final Project/musicnet_data/musicnet/musicnet/train_data')\n",
        "train_dict = sample_song(train_df, train_path)\n",
        "test_dict = sample_song(test_df, train_path, num_samples=75)"
      ]
    },
    {
      "cell_type": "markdown",
      "metadata": {
        "id": "PEsNOsSXp8ui"
      },
      "source": [
        "# Save Audio Samples to NPZ Format / Load Data in NPZ Files"
      ]
    },
    {
      "cell_type": "code",
      "execution_count": null,
      "metadata": {
        "id": "cskLhff39ITo"
      },
      "outputs": [],
      "source": [
        "# data saving / loading functions\n",
        "def to_npz(dictionary, npz_filename, folder=\"/content/drive/MyDrive/W207 Final Project/audio_features\", func=np.savez_compressed):\n",
        "  \"\"\"\n",
        "  dictionary: the dictionary returned from sample_song function (see sample_song documentation for more details)\n",
        "  folder: path to the folder where we want to store the npz files; defaults to the audio_features folder\n",
        "  npz_filename: name of the npz files, we should have 1 for train (sampled_train) and 1 for test (sampled_test)\n",
        "\n",
        "  converts dictionaries to npz files\n",
        "  \"\"\"\n",
        "  folder = Path(folder)\n",
        "  if \".npz\" not in npz_filename:\n",
        "    npz_filename += \".npz\"\n",
        "  func(folder/npz_filename, **dictionary)\n",
        "\n",
        "def load_npz(filename, folder=\"/content/drive/MyDrive/W207 Final Project/audio_features\", pickle=True):\n",
        "  \"\"\"\n",
        "  filename: name of the npz file you want to load\n",
        "  folder: path to the folder where npz files are stored; defaults to the audio_features folder\n",
        "\n",
        "  load .npz files (used when loading audio data dictionary & spectral features)\n",
        "  \"\"\"\n",
        "  folder = Path(folder)\n",
        "  if \".npz\" not in filename:\n",
        "    filename += \".npz\"\n",
        "  return np.load(folder/filename, allow_pickle=pickle)"
      ]
    },
    {
      "cell_type": "code",
      "execution_count": null,
      "metadata": {
        "colab": {
          "base_uri": "https://localhost:8080/"
        },
        "id": "UaFU30al-Jat",
        "outputId": "b68b1c9f-d440-47ba-917a-f657f03e82bc"
      },
      "outputs": [
        {
          "name": "stderr",
          "output_type": "stream",
          "text": [
            "/usr/local/lib/python3.7/dist-packages/numpy/core/_asarray.py:136: VisibleDeprecationWarning: Creating an ndarray from ragged nested sequences (which is a list-or-tuple of lists-or-tuples-or ndarrays with different lengths or shapes) is deprecated. If you meant to do this, you must specify 'dtype=object' when creating the ndarray\n",
            "  return array(a, dtype, copy=False, order=order, subok=True)\n"
          ]
        }
      ],
      "source": [
        "# save sample dictionaries to .npz file; ONLY LOAD IF YOU DON'T HAVE THESE FILE\n",
        "to_npz(train_dict, \"train_samples_2.npz\")\n",
        "to_npz(test_dict, \"test_samples_2.npz\")"
      ]
    },
    {
      "cell_type": "code",
      "execution_count": null,
      "metadata": {
        "colab": {
          "base_uri": "https://localhost:8080/"
        },
        "id": "wrulbN9XSftJ",
        "outputId": "ca337dae-d299-4e87-ba25-e96700c24e6d"
      },
      "outputs": [
        {
          "data": {
            "text/plain": [
              "['id',\n",
              " 'composer',\n",
              " 'composition',\n",
              " 'offsets',\n",
              " 'audio_data',\n",
              " 'sample_length',\n",
              " 'sampling_rate']"
            ]
          },
          "execution_count": 57,
          "metadata": {},
          "output_type": "execute_result"
        }
      ],
      "source": [
        "# load train and test data from .npz files; check format\n",
        "train_data = load_npz(\"train_samples_2.npz\", folder='/content/drive/MyDrive/W207 Final Project/audio_features')\n",
        "test_data = load_npz(\"test_samples_2.npz\")\n",
        "train_data.files"
      ]
    },
    {
      "cell_type": "code",
      "execution_count": null,
      "metadata": {
        "colab": {
          "base_uri": "https://localhost:8080/"
        },
        "id": "0nlCyFFNF25o",
        "outputId": "f77c8905-b1b1-40a4-a84a-da1b66e17bc8"
      },
      "outputs": [
        {
          "name": "stdout",
          "output_type": "stream",
          "text": [
            "[1733 1758 1772 1789 1793 1859 2113 2117 2155 2195 2215 2242 2451 2575\n",
            " 2614]\n"
          ]
        },
        {
          "data": {
            "text/plain": [
              "1872    82\n",
              "2127    81\n",
              "1811    79\n",
              "2149    75\n",
              "2159    75\n",
              "        ..\n",
              "2371     2\n",
              "2432     2\n",
              "2411     1\n",
              "2405     1\n",
              "2382     1\n",
              "Length: 86, dtype: int64"
            ]
          },
          "execution_count": 58,
          "metadata": {},
          "output_type": "execute_result"
        }
      ],
      "source": [
        "# sanity check to see we saved everything correctly\n",
        "print(np.unique(test_data['id']))\n",
        "pd.Series(train_data['id']).value_counts()"
      ]
    },
    {
      "cell_type": "markdown",
      "metadata": {
        "id": "9gCqgkrSgHJW"
      },
      "source": [
        "# Feature Extraction"
      ]
    },
    {
      "cell_type": "code",
      "execution_count": null,
      "metadata": {
        "id": "26nLjxsllQDz"
      },
      "outputs": [],
      "source": [
        "# extract features from audio data samples\n",
        "def feature_gen(audio_data, composers, ids, base_fname, samples_per_file=300, folder=\"feature_data_2\"):\n",
        "  \"\"\"\n",
        "  audio_data: audio data to extract features from; should be a 2D array\n",
        "  composers: list of composers the audio_data is associated with\n",
        "  ids: list of IDs the audio_data is associated with\n",
        "  base_fname: name for the feature files; every feature file will have this name\n",
        "  samples_per_file: number of samples stored in a file; defaults to 300 (we use this b/c files get really big if we don't split them up)\n",
        "  folder: name of folder we want to store the features at; defaults to feature_data_2 folder\n",
        "\n",
        "  extract Chroma features and Mel-frequency cepstral coefficients (MFCCs) from audio data\n",
        "  save the features and meta information to .npz files\n",
        "  \"\"\"\n",
        "  ctr = 0\n",
        "  features = {'chroma':[], 'mfcc':[], 'composer': [], 'id': []}\n",
        "\n",
        "  for audio, comp, id in zip(audio_data, composers, ids):\n",
        "    features['chroma'].append(chroma_stft(audio))\n",
        "    features['mfcc'].append(mfcc(audio))\n",
        "    features['composer'].append(comp)\n",
        "    features['id'].append(id)\n",
        "    if len(features['id']) % 10 == 0:\n",
        "      pass\n",
        "    \n",
        "    if len(features['chroma']) > samples_per_file:\n",
        "      fname = \"{0}_{1}.npz\".format(base_fname, str(ctr))\n",
        "      print(\"Dumping {0} entries into {1}\".format(len(features['chroma']), fname))\n",
        "\n",
        "      for k in features:\n",
        "        features[k] = np.array(features[k])\n",
        "      to_npz(features, fname, folder=\"/content/drive/MyDrive/W207 Final Project/\" + folder, func=np.savez)\n",
        "      del features\n",
        "      gc.collect()\n",
        "      features = {'chroma':[], 'mfcc':[], 'composer': [], 'id': []}\n",
        "      ctr += 1\n",
        "\n",
        "  fname = \"{0}_{1}.npz\".format(base_fname, str(ctr))\n",
        "  print(\"Dumping {0} entries into {1}\".format(len(features['chroma']), fname))\n",
        "  to_npz(features, fname, folder=\"/content/drive/MyDrive/W207 Final Project/\" + folder, func=np.savez)"
      ]
    },
    {
      "cell_type": "code",
      "execution_count": null,
      "metadata": {
        "colab": {
          "base_uri": "https://localhost:8080/",
          "height": 1000
        },
        "id": "-qn4gGx_iXe3",
        "outputId": "ff28e69f-69b6-42de-cc8e-fea433c2e5d7"
      },
      "outputs": [
        {
          "name": "stderr",
          "output_type": "stream",
          "text": [
            "/usr/local/lib/python3.7/dist-packages/librosa/core/pitch.py:153: UserWarning: Trying to estimate tuning from empty frequency set.\n",
            "  warnings.warn(\"Trying to estimate tuning from empty frequency set.\")\n"
          ]
        },
        {
          "name": "stdout",
          "output_type": "stream",
          "text": [
            "Dumping 301 entries into newly_sampled_train_features_0.npz\n",
            "(12, 862)\n",
            "(12, 862)\n",
            "(12, 862)\n",
            "(12, 862)\n",
            "(12, 862)\n",
            "(12, 862)\n",
            "(12, 862)\n",
            "(12, 862)\n",
            "(12, 862)\n",
            "(12, 862)\n",
            "(12, 862)\n",
            "(12, 862)\n",
            "(12, 862)\n",
            "(12, 862)\n",
            "(12, 862)\n",
            "(12, 862)\n",
            "(12, 862)\n",
            "(12, 862)\n",
            "(12, 862)\n",
            "(12, 862)\n",
            "(12, 862)\n",
            "(12, 862)\n",
            "(12, 862)\n",
            "(12, 862)\n",
            "(12, 152)\n",
            "(12, 862)\n",
            "(12, 583)\n",
            "(12, 862)\n",
            "(12, 267)\n",
            "(12, 862)\n",
            "(12, 862)\n",
            "(12, 862)\n",
            "(12, 862)\n",
            "(12, 862)\n",
            "(12, 862)\n",
            "(12, 862)\n",
            "(12, 862)\n",
            "(12, 862)\n",
            "(12, 862)\n",
            "(12, 862)\n",
            "(12, 862)\n",
            "(12, 396)\n",
            "(12, 329)\n",
            "(12, 862)\n",
            "(12, 862)\n",
            "(12, 862)\n",
            "(12, 862)\n",
            "(12, 846)\n",
            "(12, 862)\n",
            "(12, 862)\n",
            "(12, 862)\n",
            "(12, 862)\n",
            "(12, 862)\n",
            "(12, 336)\n",
            "(12, 862)\n",
            "(12, 862)\n",
            "(12, 551)\n",
            "(12, 163)\n",
            "(12, 680)\n",
            "(12, 862)\n",
            "(12, 862)\n",
            "(12, 862)\n",
            "(12, 862)\n",
            "(12, 862)\n",
            "(12, 862)\n",
            "(12, 862)\n",
            "(12, 862)\n",
            "(12, 862)\n",
            "(12, 862)\n",
            "(12, 862)\n",
            "(12, 785)\n",
            "(12, 862)\n",
            "(12, 862)\n",
            "(12, 862)\n",
            "(12, 862)\n",
            "(12, 862)\n",
            "(12, 862)\n",
            "(12, 484)\n",
            "(12, 862)\n",
            "(12, 862)\n",
            "(12, 862)\n",
            "(12, 862)\n",
            "(12, 862)\n",
            "(12, 862)\n",
            "(12, 862)\n",
            "(12, 862)\n",
            "(12, 354)\n",
            "(12, 862)\n",
            "(12, 862)\n",
            "(12, 862)\n",
            "(12, 862)\n",
            "(12, 862)\n",
            "(12, 862)\n",
            "(12, 862)\n",
            "(12, 862)\n",
            "(12, 862)\n",
            "(12, 862)\n",
            "(12, 862)\n",
            "(12, 862)\n",
            "(12, 862)\n",
            "(12, 862)\n",
            "(12, 862)\n",
            "(12, 862)\n",
            "(12, 862)\n",
            "(12, 862)\n",
            "(12, 862)\n",
            "(12, 862)\n",
            "(12, 862)\n",
            "(12, 862)\n",
            "(12, 862)\n",
            "(12, 862)\n",
            "(12, 862)\n",
            "(12, 862)\n",
            "(12, 862)\n",
            "(12, 862)\n",
            "(12, 862)\n",
            "(12, 862)\n",
            "(12, 552)\n",
            "(12, 862)\n",
            "(12, 862)\n",
            "(12, 862)\n",
            "(12, 862)\n",
            "(12, 862)\n",
            "(12, 862)\n",
            "(12, 862)\n",
            "(12, 862)\n",
            "(12, 862)\n",
            "(12, 862)\n",
            "(12, 862)\n",
            "(12, 192)\n",
            "(12, 862)\n",
            "(12, 862)\n",
            "(12, 708)\n",
            "(12, 364)\n",
            "(12, 862)\n",
            "(12, 862)\n",
            "(12, 862)\n",
            "(12, 862)\n",
            "(12, 862)\n",
            "(12, 862)\n",
            "(12, 862)\n",
            "(12, 862)\n",
            "(12, 862)\n",
            "(12, 862)\n",
            "(12, 499)\n",
            "(12, 862)\n",
            "(12, 862)\n",
            "(12, 862)\n",
            "(12, 862)\n",
            "(12, 862)\n",
            "(12, 862)\n",
            "(12, 862)\n",
            "(12, 862)\n",
            "(12, 862)\n",
            "(12, 862)\n",
            "(12, 862)\n",
            "(12, 862)\n",
            "(12, 715)\n",
            "(12, 862)\n",
            "(12, 862)\n",
            "(12, 862)\n",
            "(12, 327)\n",
            "(12, 459)\n",
            "(12, 862)\n",
            "(12, 862)\n",
            "(12, 760)\n",
            "(12, 588)\n",
            "(12, 862)\n",
            "(12, 862)\n",
            "(12, 862)\n",
            "(12, 545)\n",
            "(12, 862)\n",
            "(12, 862)\n",
            "(12, 862)\n",
            "(12, 862)\n",
            "(12, 862)\n",
            "(12, 862)\n",
            "(12, 862)\n",
            "(12, 862)\n",
            "(12, 862)\n",
            "(12, 862)\n",
            "(12, 862)\n",
            "(12, 862)\n",
            "(12, 862)\n",
            "(12, 862)\n",
            "(12, 862)\n",
            "(12, 862)\n",
            "(12, 862)\n",
            "(12, 862)\n",
            "(12, 862)\n",
            "(12, 862)\n",
            "(12, 562)\n",
            "(12, 862)\n",
            "(12, 862)\n",
            "(12, 862)\n",
            "(12, 743)\n",
            "(12, 862)\n",
            "(12, 862)\n",
            "(12, 862)\n",
            "(12, 862)\n",
            "(12, 140)\n",
            "(12, 862)\n",
            "(12, 862)\n",
            "(12, 862)\n",
            "(12, 862)\n",
            "(12, 862)\n",
            "(12, 862)\n",
            "(12, 862)\n",
            "(12, 862)\n",
            "(12, 862)\n",
            "(12, 862)\n",
            "(12, 862)\n",
            "(12, 862)\n",
            "(12, 862)\n",
            "(12, 862)\n",
            "(12, 862)\n",
            "(12, 862)\n",
            "(12, 862)\n",
            "(12, 862)\n",
            "(12, 862)\n",
            "(12, 862)\n",
            "(12, 862)\n",
            "(12, 862)\n",
            "(12, 862)\n",
            "(12, 420)\n",
            "(12, 862)\n",
            "(12, 862)\n",
            "(12, 862)\n",
            "(12, 334)\n",
            "(12, 862)\n",
            "(12, 862)\n",
            "(12, 862)\n",
            "(12, 862)\n",
            "(12, 862)\n",
            "(12, 862)\n",
            "(12, 862)\n",
            "(12, 862)\n",
            "(12, 862)\n",
            "(12, 862)\n",
            "(12, 862)\n",
            "(12, 862)\n",
            "(12, 862)\n",
            "(12, 862)\n",
            "(12, 862)\n",
            "(12, 862)\n",
            "(12, 862)\n",
            "(12, 862)\n",
            "(12, 862)\n",
            "(12, 862)\n",
            "(12, 862)\n",
            "(12, 862)\n",
            "(12, 862)\n",
            "(12, 862)\n",
            "(12, 862)\n",
            "(12, 862)\n",
            "(12, 862)\n",
            "(12, 862)\n",
            "(12, 862)\n",
            "(12, 862)\n",
            "(12, 862)\n",
            "(12, 862)\n",
            "(12, 862)\n",
            "(12, 862)\n",
            "(12, 862)\n",
            "(12, 862)\n",
            "(12, 101)\n",
            "(12, 862)\n",
            "(12, 862)\n",
            "(12, 833)\n",
            "(12, 862)\n",
            "(12, 862)\n",
            "(12, 862)\n",
            "(12, 862)\n",
            "(12, 862)\n",
            "(12, 862)\n",
            "(12, 834)\n",
            "(12, 862)\n",
            "(12, 862)\n",
            "(12, 862)\n",
            "(12, 862)\n",
            "(12, 862)\n",
            "(12, 862)\n",
            "(12, 862)\n",
            "(12, 862)\n",
            "(12, 862)\n",
            "(12, 862)\n",
            "(12, 862)\n",
            "(12, 862)\n",
            "(12, 526)\n",
            "(12, 862)\n",
            "(12, 862)\n",
            "(12, 52)\n",
            "(12, 862)\n",
            "(12, 440)\n",
            "(12, 862)\n",
            "(12, 862)\n",
            "(12, 397)\n",
            "(12, 862)\n",
            "(12, 862)\n",
            "(12, 862)\n",
            "(12, 862)\n"
          ]
        },
        {
          "name": "stderr",
          "output_type": "stream",
          "text": [
            "/usr/local/lib/python3.7/dist-packages/ipykernel_launcher.py:32: VisibleDeprecationWarning: Creating an ndarray from ragged nested sequences (which is a list-or-tuple of lists-or-tuples-or ndarrays with different lengths or shapes) is deprecated. If you meant to do this, you must specify 'dtype=object' when creating the ndarray\n"
          ]
        },
        {
          "ename": "ValueError",
          "evalue": "ignored",
          "output_type": "error",
          "traceback": [
            "\u001b[0;31m---------------------------------------------------------------------------\u001b[0m",
            "\u001b[0;31mValueError\u001b[0m                                Traceback (most recent call last)",
            "\u001b[0;32m<ipython-input-77-461473299dbd>\u001b[0m in \u001b[0;36m<module>\u001b[0;34m()\u001b[0m\n\u001b[1;32m      4\u001b[0m \u001b[0mcomposer\u001b[0m \u001b[0;34m=\u001b[0m \u001b[0mtrain_data\u001b[0m\u001b[0;34m[\u001b[0m\u001b[0;34m'composer'\u001b[0m\u001b[0;34m]\u001b[0m\u001b[0;34m\u001b[0m\u001b[0;34m\u001b[0m\u001b[0m\n\u001b[1;32m      5\u001b[0m \u001b[0mid\u001b[0m \u001b[0;34m=\u001b[0m \u001b[0mtrain_data\u001b[0m\u001b[0;34m[\u001b[0m\u001b[0;34m'id'\u001b[0m\u001b[0;34m]\u001b[0m\u001b[0;34m\u001b[0m\u001b[0;34m\u001b[0m\u001b[0m\n\u001b[0;32m----> 6\u001b[0;31m \u001b[0mfeature_gen\u001b[0m\u001b[0;34m(\u001b[0m\u001b[0maudio\u001b[0m\u001b[0;34m,\u001b[0m \u001b[0mcomposer\u001b[0m\u001b[0;34m,\u001b[0m \u001b[0mid\u001b[0m\u001b[0;34m,\u001b[0m \u001b[0;34m\"newly_sampled_train_features\"\u001b[0m\u001b[0;34m)\u001b[0m\u001b[0;34m\u001b[0m\u001b[0;34m\u001b[0m\u001b[0m\n\u001b[0m\u001b[1;32m      7\u001b[0m \u001b[0;34m\u001b[0m\u001b[0m\n\u001b[1;32m      8\u001b[0m \u001b[0;31m# extract features for test data\u001b[0m\u001b[0;34m\u001b[0m\u001b[0;34m\u001b[0m\u001b[0;34m\u001b[0m\u001b[0m\n",
            "\u001b[0;32m<ipython-input-59-8b53cba52af4>\u001b[0m in \u001b[0;36mfeature_gen\u001b[0;34m(audio_data, composers, ids, base_fname, samples_per_file, folder)\u001b[0m\n\u001b[1;32m     30\u001b[0m         \u001b[0;32mfor\u001b[0m \u001b[0mfeat\u001b[0m \u001b[0;32min\u001b[0m \u001b[0mfeatures\u001b[0m\u001b[0;34m[\u001b[0m\u001b[0mk\u001b[0m\u001b[0;34m]\u001b[0m\u001b[0;34m:\u001b[0m\u001b[0;34m\u001b[0m\u001b[0;34m\u001b[0m\u001b[0m\n\u001b[1;32m     31\u001b[0m           \u001b[0mprint\u001b[0m\u001b[0;34m(\u001b[0m\u001b[0mfeat\u001b[0m\u001b[0;34m.\u001b[0m\u001b[0mshape\u001b[0m\u001b[0;34m)\u001b[0m\u001b[0;34m\u001b[0m\u001b[0;34m\u001b[0m\u001b[0m\n\u001b[0;32m---> 32\u001b[0;31m         \u001b[0mfeatures\u001b[0m\u001b[0;34m[\u001b[0m\u001b[0mk\u001b[0m\u001b[0;34m]\u001b[0m \u001b[0;34m=\u001b[0m \u001b[0mnp\u001b[0m\u001b[0;34m.\u001b[0m\u001b[0marray\u001b[0m\u001b[0;34m(\u001b[0m\u001b[0mfeatures\u001b[0m\u001b[0;34m[\u001b[0m\u001b[0mk\u001b[0m\u001b[0;34m]\u001b[0m\u001b[0;34m)\u001b[0m\u001b[0;34m\u001b[0m\u001b[0;34m\u001b[0m\u001b[0m\n\u001b[0m\u001b[1;32m     33\u001b[0m       \u001b[0mto_npz\u001b[0m\u001b[0;34m(\u001b[0m\u001b[0mfeatures\u001b[0m\u001b[0;34m,\u001b[0m \u001b[0mfname\u001b[0m\u001b[0;34m,\u001b[0m \u001b[0mfolder\u001b[0m\u001b[0;34m=\u001b[0m\u001b[0;34m\"/content/drive/MyDrive/W207 Final Project/\"\u001b[0m \u001b[0;34m+\u001b[0m \u001b[0mfolder\u001b[0m\u001b[0;34m,\u001b[0m \u001b[0mfunc\u001b[0m\u001b[0;34m=\u001b[0m\u001b[0mnp\u001b[0m\u001b[0;34m.\u001b[0m\u001b[0msavez\u001b[0m\u001b[0;34m)\u001b[0m\u001b[0;34m\u001b[0m\u001b[0;34m\u001b[0m\u001b[0m\n\u001b[1;32m     34\u001b[0m       \u001b[0;32mdel\u001b[0m \u001b[0mfeatures\u001b[0m\u001b[0;34m\u001b[0m\u001b[0;34m\u001b[0m\u001b[0m\n",
            "\u001b[0;31mValueError\u001b[0m: could not broadcast input array from shape (12,862) into shape (12)"
          ]
        }
      ],
      "source": [
        "######## ONLY RUN IF YOU DON'T ALREADY HAVE THE FEATURES FILES ########\n",
        "# extract features for train data\n",
        "audio = train_data['audio_data']\n",
        "composer = train_data['composer']\n",
        "id = train_data['id']\n",
        "feature_gen(audio, composer, id, \"newly_sampled_train_features\")\n",
        "\n",
        "# extract features for test data\n",
        "audio_test = test_data['audio_data']\n",
        "composer_test = test_data['composer']\n",
        "id_test = test_data['id']\n",
        "feature_gen(audio_test, composer_test, id_test, \"newly_sampled_test_features\")"
      ]
    },
    {
      "cell_type": "code",
      "execution_count": null,
      "metadata": {
        "colab": {
          "base_uri": "https://localhost:8080/"
        },
        "id": "4I0RgM9FpQjz",
        "outputId": "018bdc07-eb91-4580-daa7-dc080d699763"
      },
      "outputs": [
        {
          "name": "stdout",
          "output_type": "stream",
          "text": [
            "['chroma', 'mfcc', 'composer', 'id']\n"
          ]
        },
        {
          "data": {
            "text/plain": [
              "(301, 12, 862)"
            ]
          },
          "execution_count": 63,
          "metadata": {},
          "output_type": "execute_result"
        }
      ],
      "source": [
        "# sanity check to make sure we saved the features correctly\n",
        "feature_data_sample = load_npz(\"newly_sampled_train_features_0.npz\", folder=folder/'feature_data_2')\n",
        "print(feature_data_sample.files)\n",
        "feature_data_sample['chroma'].shape"
      ]
    },
    {
      "cell_type": "markdown",
      "metadata": {
        "id": "FJ0JsPULaje2"
      },
      "source": [
        "# Modeling"
      ]
    },
    {
      "cell_type": "markdown",
      "metadata": {
        "id": "MMdiAEtOv-Bn"
      },
      "source": [
        "Throughout modeling, we set a random seed of 1337 for reproducibility."
      ]
    },
    {
      "cell_type": "code",
      "execution_count": null,
      "metadata": {
        "id": "C8ynSUBHaxy1"
      },
      "outputs": [],
      "source": [
        "# load features data\n",
        "train_feat = {'chroma':[], 'mfcc':[], 'composer': [], 'id': []}\n",
        "test_feat = {'chroma':[], 'mfcc':[], 'composer': [], 'id': []}\n",
        "\n",
        "for filename in os.listdir('/content/drive/MyDrive/W207 Final Project/feature_data_2'):\n",
        "  data_segment = load_npz(filename, folder='/content/drive/MyDrive/W207 Final Project/feature_data_2', pickle=False)\n",
        "  for key in train_feat:\n",
        "    if 'test' in filename:\n",
        "      test_feat[key].extend(data_segment[key])\n",
        "    else:\n",
        "      train_feat[key].extend(data_segment[key])"
      ]
    },
    {
      "cell_type": "markdown",
      "metadata": {
        "id": "qHgqL2v4amZa"
      },
      "source": [
        "## Support Vector Machine (SVM)"
      ]
    },
    {
      "cell_type": "code",
      "execution_count": null,
      "metadata": {
        "id": "O2izsBb_a0CR"
      },
      "outputs": [],
      "source": [
        "# reshape train features into 2D array and split training set into train and validation set\n",
        "N = np.array(train_feat['mfcc']).shape[0]\n",
        "X = np.array(train_feat['mfcc']).reshape(N,-1)\n",
        "y = np.array(train_feat['composer'])\n",
        "X_train, X_val, y_train, y_val = train_test_split(X, y, test_size=0.3, random_state=1337)"
      ]
    },
    {
      "cell_type": "code",
      "execution_count": null,
      "metadata": {
        "colab": {
          "base_uri": "https://localhost:8080/"
        },
        "id": "zlM8aFdRwzy1",
        "outputId": "e53f7266-939f-4816-dcf7-24c1ac1bdc89"
      },
      "outputs": [
        {
          "name": "stdout",
          "output_type": "stream",
          "text": [
            "0.17687074829931973\n"
          ]
        }
      ],
      "source": [
        "# create a dummy model that predicts composers at random; use this as a benchmark for model performance later\n",
        "y_dummy = np.random.choice(np.unique(train_feat['composer']), size = len(y_val), replace = True).reshape(441, 1)\n",
        "print(accuracy_score(y_val, y_dummy))"
      ]
    },
    {
      "cell_type": "code",
      "execution_count": null,
      "metadata": {
        "colab": {
          "base_uri": "https://localhost:8080/"
        },
        "id": "I7-WqPj1a2P6",
        "outputId": "b872f154-1742-4177-b54a-467b7ae9739e"
      },
      "outputs": [
        {
          "name": "stdout",
          "output_type": "stream",
          "text": [
            "0.7891156462585034\n"
          ]
        },
        {
          "data": {
            "text/plain": [
              "{'mean_fit_time': array([ 8.75164967, 15.16326232, 12.58645058, 16.34135852,  8.57250147,\n",
              "        13.40744224, 11.44270158, 15.65734062,  9.7697145 , 11.39207907,\n",
              "        11.26339726, 14.43397627,  9.68859982, 10.33312325, 10.33520608,\n",
              "        12.73139496, 10.89402905, 10.48214626, 10.01398029, 13.12792482,\n",
              "         9.67553058,  9.05084238,  9.00023322, 10.30222507,  9.88741746,\n",
              "         7.9114336 ,  8.94666629,  9.16313701]),\n",
              " 'mean_score_time': array([2.31559982, 4.63843508, 2.34355001, 2.54579973, 2.03810287,\n",
              "        4.45400701, 2.62511635, 2.45401711, 2.19131317, 4.06408048,\n",
              "        2.34024439, 2.5215405 , 2.22901196, 4.00043917, 2.18440027,\n",
              "        2.31525736, 2.33532166, 4.30645962, 2.23250713, 3.12833714,\n",
              "        2.06166863, 4.19593444, 2.46904016, 2.76365662, 2.26450715,\n",
              "        3.89515219, 2.28710527, 2.18577976]),\n",
              " 'mean_test_score': array([0.7511911 , 0.4917452 , 0.51797774, 0.20602415, 0.7511911 ,\n",
              "        0.57823822, 0.57532086, 0.29545347, 0.7511911 , 0.61128582,\n",
              "        0.59962586, 0.24490646, 0.7511911 , 0.69586076, 0.68810324,\n",
              "        0.15938432, 0.7511911 , 0.74542269, 0.73376273, 0.14091878,\n",
              "        0.7511911 , 0.7726403 , 0.74835425, 0.16436183, 0.7511911 ,\n",
              "        0.81732891, 0.75027705, 0.16048307]),\n",
              " 'param_C': masked_array(data=[0.1, 0.1, 0.1, 0.1, 0.5, 0.5, 0.5, 0.5, 1, 1, 1, 1, 3,\n",
              "                    3, 3, 3, 6, 6, 6, 6, 10, 10, 10, 10, 20, 20, 20, 20],\n",
              "              mask=[False, False, False, False, False, False, False, False,\n",
              "                    False, False, False, False, False, False, False, False,\n",
              "                    False, False, False, False, False, False, False, False,\n",
              "                    False, False, False, False],\n",
              "        fill_value='?',\n",
              "             dtype=object),\n",
              " 'param_kernel': masked_array(data=['linear', 'rbf', 'poly', 'sigmoid', 'linear', 'rbf',\n",
              "                    'poly', 'sigmoid', 'linear', 'rbf', 'poly', 'sigmoid',\n",
              "                    'linear', 'rbf', 'poly', 'sigmoid', 'linear', 'rbf',\n",
              "                    'poly', 'sigmoid', 'linear', 'rbf', 'poly', 'sigmoid',\n",
              "                    'linear', 'rbf', 'poly', 'sigmoid'],\n",
              "              mask=[False, False, False, False, False, False, False, False,\n",
              "                    False, False, False, False, False, False, False, False,\n",
              "                    False, False, False, False, False, False, False, False,\n",
              "                    False, False, False, False],\n",
              "        fill_value='?',\n",
              "             dtype=object),\n",
              " 'params': [{'C': 0.1, 'kernel': 'linear'},\n",
              "  {'C': 0.1, 'kernel': 'rbf'},\n",
              "  {'C': 0.1, 'kernel': 'poly'},\n",
              "  {'C': 0.1, 'kernel': 'sigmoid'},\n",
              "  {'C': 0.5, 'kernel': 'linear'},\n",
              "  {'C': 0.5, 'kernel': 'rbf'},\n",
              "  {'C': 0.5, 'kernel': 'poly'},\n",
              "  {'C': 0.5, 'kernel': 'sigmoid'},\n",
              "  {'C': 1, 'kernel': 'linear'},\n",
              "  {'C': 1, 'kernel': 'rbf'},\n",
              "  {'C': 1, 'kernel': 'poly'},\n",
              "  {'C': 1, 'kernel': 'sigmoid'},\n",
              "  {'C': 3, 'kernel': 'linear'},\n",
              "  {'C': 3, 'kernel': 'rbf'},\n",
              "  {'C': 3, 'kernel': 'poly'},\n",
              "  {'C': 3, 'kernel': 'sigmoid'},\n",
              "  {'C': 6, 'kernel': 'linear'},\n",
              "  {'C': 6, 'kernel': 'rbf'},\n",
              "  {'C': 6, 'kernel': 'poly'},\n",
              "  {'C': 6, 'kernel': 'sigmoid'},\n",
              "  {'C': 10, 'kernel': 'linear'},\n",
              "  {'C': 10, 'kernel': 'rbf'},\n",
              "  {'C': 10, 'kernel': 'poly'},\n",
              "  {'C': 10, 'kernel': 'sigmoid'},\n",
              "  {'C': 20, 'kernel': 'linear'},\n",
              "  {'C': 20, 'kernel': 'rbf'},\n",
              "  {'C': 20, 'kernel': 'poly'},\n",
              "  {'C': 20, 'kernel': 'sigmoid'}],\n",
              " 'rank_test_score': array([ 3, 21, 20, 24,  3, 18, 19, 22,  3, 16, 17, 23,  3, 14, 15, 27,  3,\n",
              "        12, 13, 28,  3,  2, 11, 25,  3,  1, 10, 26], dtype=int32),\n",
              " 'split0_test_score': array([0.76213592, 0.49029126, 0.5       , 0.2184466 , 0.76213592,\n",
              "        0.54854369, 0.5631068 , 0.33495146, 0.76213592, 0.59223301,\n",
              "        0.59708738, 0.28640777, 0.76213592, 0.69902913, 0.68932039,\n",
              "        0.19902913, 0.76213592, 0.75728155, 0.76699029, 0.17961165,\n",
              "        0.76213592, 0.75728155, 0.73786408, 0.16504854, 0.76213592,\n",
              "        0.80097087, 0.74271845, 0.15048544]),\n",
              " 'split1_test_score': array([0.76213592, 0.48543689, 0.49514563, 0.21359223, 0.76213592,\n",
              "        0.5631068 , 0.54854369, 0.25728155, 0.76213592, 0.59223301,\n",
              "        0.55825243, 0.22815534, 0.76213592, 0.66019417, 0.64563107,\n",
              "        0.13592233, 0.76213592, 0.72815534, 0.68446602, 0.12621359,\n",
              "        0.76213592, 0.77184466, 0.72330097, 0.11650485, 0.76213592,\n",
              "        0.82038835, 0.7184466 , 0.11165049]),\n",
              " 'split2_test_score': array([0.75242718, 0.49029126, 0.51941748, 0.19902913, 0.75242718,\n",
              "        0.5776699 , 0.59223301, 0.2961165 , 0.75242718, 0.61650485,\n",
              "        0.62135922, 0.24271845, 0.75242718, 0.66990291, 0.67475728,\n",
              "        0.17961165, 0.75242718, 0.7184466 , 0.7038835 , 0.16019417,\n",
              "        0.75242718, 0.74757282, 0.72815534, 0.15533981, 0.75242718,\n",
              "        0.79126214, 0.75728155, 0.15533981]),\n",
              " 'split3_test_score': array([0.75242718, 0.49514563, 0.55825243, 0.19417476, 0.75242718,\n",
              "        0.61650485, 0.59223301, 0.27184466, 0.75242718, 0.63106796,\n",
              "        0.60679612, 0.21359223, 0.75242718, 0.71359223, 0.68446602,\n",
              "        0.11650485, 0.75242718, 0.73786408, 0.73786408, 0.09223301,\n",
              "        0.75242718, 0.76699029, 0.74757282, 0.09223301, 0.75242718,\n",
              "        0.82524272, 0.74757282, 0.08737864]),\n",
              " 'split4_test_score': array([0.72682927, 0.49756098, 0.51707317, 0.20487805, 0.72682927,\n",
              "        0.58536585, 0.5804878 , 0.31707317, 0.72682927, 0.62439024,\n",
              "        0.61463415, 0.25365854, 0.72682927, 0.73658537, 0.74634146,\n",
              "        0.16585366, 0.72682927, 0.78536585, 0.77560976, 0.14634146,\n",
              "        0.72682927, 0.8195122 , 0.80487805, 0.29268293, 0.72682927,\n",
              "        0.84878049, 0.78536585, 0.29756098]),\n",
              " 'std_fit_time': array([1.11961513, 0.85260784, 0.7645892 , 1.13665294, 0.60414189,\n",
              "        1.37949657, 1.64149018, 0.55118919, 1.35318553, 0.78621183,\n",
              "        0.74437219, 1.00443819, 1.3749428 , 1.04334504, 0.8088816 ,\n",
              "        1.26235572, 0.80961351, 0.71552878, 1.33669296, 0.80893325,\n",
              "        1.8140989 , 0.61809684, 1.28986525, 0.74350301, 0.77273195,\n",
              "        1.2407668 , 1.66584254, 0.70746053]),\n",
              " 'std_score_time': array([0.36053827, 0.23187234, 0.25116935, 0.3400118 , 0.3572063 ,\n",
              "        0.41921881, 0.31514655, 0.36319135, 0.35881681, 0.29482909,\n",
              "        0.4805581 , 0.26834974, 0.21974011, 0.26980654, 0.25740479,\n",
              "        0.28070867, 0.42254829, 0.36073415, 0.22839054, 0.52832572,\n",
              "        0.30393833, 0.41972872, 0.19393202, 0.56328028, 0.50673537,\n",
              "        0.26313221, 0.31091296, 0.30766529]),\n",
              " 'std_test_score': array([0.01293161, 0.00422868, 0.02222362, 0.00896934, 0.01293161,\n",
              "        0.02291806, 0.01711689, 0.02843383, 0.01293161, 0.01622539,\n",
              "        0.02221353, 0.02475854, 0.01293161, 0.0280316 , 0.03282804,\n",
              "        0.02970462, 0.01293161, 0.02374486, 0.03519943, 0.02994873,\n",
              "        0.01293161, 0.02487489, 0.02946611, 0.06934123, 0.01293161,\n",
              "        0.02004122, 0.02171594, 0.07300087])}"
            ]
          },
          "execution_count": 49,
          "metadata": {},
          "output_type": "execute_result"
        }
      ],
      "source": [
        "# hyperparameter tuning: find the best SVM hyperparameters using GridSearchCV (MFCCs as input)\n",
        "np.random.seed(1337)\n",
        "kernels =['linear', 'rbf', 'poly', 'sigmoid']\n",
        "c = [0.1, 0.5,  1, 3, 6, 10, 20]\n",
        "clf = GridSearchCV(estimator= SVC(), param_grid={'C': c, 'kernel': kernels})\n",
        "clf.fit(X_train, y_train)\n",
        "\n",
        "# print validation accuracy\n",
        "y_pred = clf.predict(X_val)\n",
        "print(accuracy_score(y_val,y_pred))\n",
        "clf.cv_results_"
      ]
    },
    {
      "cell_type": "code",
      "execution_count": null,
      "metadata": {
        "colab": {
          "base_uri": "https://localhost:8080/"
        },
        "id": "a-3SO-l5B4wn",
        "outputId": "693beaa4-f05f-4b3b-c728-cc3995f2e3eb"
      },
      "outputs": [
        {
          "name": "stdout",
          "output_type": "stream",
          "text": [
            "0.2108843537414966\n",
            "{'C': 20, 'kernel': 'rbf'}\n",
            "              precision    recall  f1-score   support\n",
            "\n",
            "        Bach       0.76      0.86      0.81        91\n",
            "   Beethoven       0.56      0.37      0.45        78\n",
            "      Brahms       0.90      0.94      0.92        86\n",
            "      Mozart       0.84      0.97      0.90        95\n",
            "    Schubert       0.78      0.75      0.76        91\n",
            "\n",
            "    accuracy                           0.79       441\n",
            "   macro avg       0.77      0.78      0.77       441\n",
            "weighted avg       0.77      0.79      0.78       441\n",
            "\n"
          ]
        }
      ],
      "source": [
        "# print best SVM parameter after tuning \n",
        "print(\"Best SVM parameters:\", clf.best_params_) \n",
        "grid_predictions = clf.predict(X_val) \n",
        "print()\n",
        "# print classification report \n",
        "print(classification_report(y_val, grid_predictions))"
      ]
    },
    {
      "cell_type": "code",
      "execution_count": null,
      "metadata": {
        "colab": {
          "base_uri": "https://localhost:8080/"
        },
        "id": "mtBRMEu9NPGK",
        "outputId": "c6e8d78a-c7cd-48dc-994d-a8d9576b12a7"
      },
      "outputs": [
        {
          "name": "stdout",
          "output_type": "stream",
          "text": [
            "0.3879781420765027\n"
          ]
        }
      ],
      "source": [
        "# refit a model with the best parameters and test SVM model on test set\n",
        "N = len(test_feat['mfcc'])\n",
        "test_X = np.array(test_feat['mfcc']).reshape(N,-1)\n",
        "test_y = np.array(test_feat['composer'])\n",
        "mod = SVC(C = 20, kernel = 'rbf')\n",
        "mod.fit(X,y)\n",
        "predicted_values = clf.predict(test_X)\n",
        "print(accuracy_score(predicted_values, test_y))"
      ]
    },
    {
      "cell_type": "code",
      "execution_count": null,
      "metadata": {
        "colab": {
          "base_uri": "https://localhost:8080/"
        },
        "id": "s5J_3jmPRP3r",
        "outputId": "1df8e2a3-e907-437b-9e5b-3f3dd5262a00"
      },
      "outputs": [
        {
          "name": "stdout",
          "output_type": "stream",
          "text": [
            "              precision    recall  f1-score   support\n",
            "\n",
            "        Bach       0.40      0.47      0.43        73\n",
            "   Beethoven       0.27      0.56      0.37        73\n",
            "      Brahms       0.00      0.00      0.00        74\n",
            "      Mozart       0.16      0.05      0.08        73\n",
            "    Schubert       0.63      0.86      0.73        73\n",
            "\n",
            "    accuracy                           0.39       366\n",
            "   macro avg       0.29      0.39      0.32       366\n",
            "weighted avg       0.29      0.39      0.32       366\n",
            "\n"
          ]
        }
      ],
      "source": [
        "# classification report for test set\n",
        "print(classification_report(test_y, predicted_values))"
      ]
    },
    {
      "cell_type": "markdown",
      "metadata": {
        "id": "SeOjogGkHYC7"
      },
      "source": [
        "### Trying Chroma Features as Input"
      ]
    },
    {
      "cell_type": "code",
      "execution_count": null,
      "metadata": {
        "id": "ySG7I91i_2yB"
      },
      "outputs": [],
      "source": [
        "# trying chroma features as SVM input\n",
        "X_chroma = np.array(train_feat['chroma']).reshape(N, -1)\n",
        "X_train, X_val, y_train, y_val = train_test_split(X_chroma, y, test_size=0.3, random_state=1337)"
      ]
    },
    {
      "cell_type": "code",
      "execution_count": null,
      "metadata": {
        "colab": {
          "base_uri": "https://localhost:8080/"
        },
        "id": "W6CHC6r3SxDL",
        "outputId": "23661bf7-7e05-47e8-ba75-005546cc8990"
      },
      "outputs": [
        {
          "name": "stdout",
          "output_type": "stream",
          "text": [
            "0.4875283446712018\n"
          ]
        }
      ],
      "source": [
        "# hyperparameter tuning: find the best SVM hyperparameters using GridSearchCV (chroma features as input)\n",
        "np.random.seed(1337)\n",
        "kernels =['linear', 'rbf', 'poly', 'sigmoid']\n",
        "Cs = [0.1, 0.5, 1, 6, 10, 20]\n",
        "clf = GridSearchCV(estimator= SVC(), param_grid={'C': Cs, 'kernel': kernels})\n",
        "\n",
        "# print validation accuracy\n",
        "clf.fit(X_train, y_train)\n",
        "y_pred = clf.predict(X_val)\n",
        "print(accuracy_score(y_val,y_pred))"
      ]
    },
    {
      "cell_type": "code",
      "execution_count": null,
      "metadata": {
        "colab": {
          "base_uri": "https://localhost:8080/"
        },
        "id": "yJDhY49aTjdU",
        "outputId": "013c69b1-36d9-4064-e1dc-2f7b94cb9d9c"
      },
      "outputs": [
        {
          "data": {
            "text/plain": [
              "{'mean_fit_time': array([7.95116014, 8.94769316, 8.55066533, 8.94375782, 8.45437632,\n",
              "        7.17981591, 6.51530929, 6.25272841, 6.32447624, 6.55857882,\n",
              "        6.3832932 , 5.9253808 , 6.24826484, 6.4757978 , 6.38927817,\n",
              "        4.86018815, 6.27678866, 6.5339149 , 6.26948771, 4.50679374,\n",
              "        6.01719813, 6.59602728, 6.29928083, 4.12649488]),\n",
              " 'mean_score_time': array([1.44258561, 2.67365785, 1.53221045, 1.51305332, 1.46072526,\n",
              "        2.63841581, 1.24843059, 1.30073781, 1.25114436, 2.60669918,\n",
              "        1.25543504, 1.29760728, 1.27236342, 2.55073485, 1.25420084,\n",
              "        1.18370028, 1.25518737, 2.54737449, 1.24922009, 1.16609321,\n",
              "        1.25725508, 2.53995895, 1.24762573, 1.11675844]),\n",
              " 'mean_test_score': array([0.41791617, 0.20699503, 0.39552924, 0.20699503, 0.41791617,\n",
              "        0.48108454, 0.47037651, 0.39653327, 0.41791617, 0.49759413,\n",
              "        0.46843003, 0.38098035, 0.41791617, 0.47912385, 0.46940564,\n",
              "        0.31974899, 0.41791617, 0.47912385, 0.46940564, 0.30708975,\n",
              "        0.41791617, 0.47912385, 0.46940564, 0.29057542]),\n",
              " 'param_C': masked_array(data=[0.1, 0.1, 0.1, 0.1, 0.5, 0.5, 0.5, 0.5, 1, 1, 1, 1, 6,\n",
              "                    6, 6, 6, 10, 10, 10, 10, 20, 20, 20, 20],\n",
              "              mask=[False, False, False, False, False, False, False, False,\n",
              "                    False, False, False, False, False, False, False, False,\n",
              "                    False, False, False, False, False, False, False, False],\n",
              "        fill_value='?',\n",
              "             dtype=object),\n",
              " 'param_kernel': masked_array(data=['linear', 'rbf', 'poly', 'sigmoid', 'linear', 'rbf',\n",
              "                    'poly', 'sigmoid', 'linear', 'rbf', 'poly', 'sigmoid',\n",
              "                    'linear', 'rbf', 'poly', 'sigmoid', 'linear', 'rbf',\n",
              "                    'poly', 'sigmoid', 'linear', 'rbf', 'poly', 'sigmoid'],\n",
              "              mask=[False, False, False, False, False, False, False, False,\n",
              "                    False, False, False, False, False, False, False, False,\n",
              "                    False, False, False, False, False, False, False, False],\n",
              "        fill_value='?',\n",
              "             dtype=object),\n",
              " 'params': [{'C': 0.1, 'kernel': 'linear'},\n",
              "  {'C': 0.1, 'kernel': 'rbf'},\n",
              "  {'C': 0.1, 'kernel': 'poly'},\n",
              "  {'C': 0.1, 'kernel': 'sigmoid'},\n",
              "  {'C': 0.5, 'kernel': 'linear'},\n",
              "  {'C': 0.5, 'kernel': 'rbf'},\n",
              "  {'C': 0.5, 'kernel': 'poly'},\n",
              "  {'C': 0.5, 'kernel': 'sigmoid'},\n",
              "  {'C': 1, 'kernel': 'linear'},\n",
              "  {'C': 1, 'kernel': 'rbf'},\n",
              "  {'C': 1, 'kernel': 'poly'},\n",
              "  {'C': 1, 'kernel': 'sigmoid'},\n",
              "  {'C': 6, 'kernel': 'linear'},\n",
              "  {'C': 6, 'kernel': 'rbf'},\n",
              "  {'C': 6, 'kernel': 'poly'},\n",
              "  {'C': 6, 'kernel': 'sigmoid'},\n",
              "  {'C': 10, 'kernel': 'linear'},\n",
              "  {'C': 10, 'kernel': 'rbf'},\n",
              "  {'C': 10, 'kernel': 'poly'},\n",
              "  {'C': 10, 'kernel': 'sigmoid'},\n",
              "  {'C': 20, 'kernel': 'linear'},\n",
              "  {'C': 20, 'kernel': 'rbf'},\n",
              "  {'C': 20, 'kernel': 'poly'},\n",
              "  {'C': 20, 'kernel': 'sigmoid'}],\n",
              " 'rank_test_score': array([11, 23, 18, 23, 11,  2,  6, 17, 11,  1, 10, 19, 11,  3,  7, 20, 11,\n",
              "         3,  7, 21, 11,  3,  7, 22], dtype=int32),\n",
              " 'split0_test_score': array([0.41747573, 0.20873786, 0.40291262, 0.20873786, 0.41747573,\n",
              "        0.5       , 0.46116505, 0.42718447, 0.41747573, 0.53883495,\n",
              "        0.46601942, 0.40291262, 0.41747573, 0.5       , 0.46601942,\n",
              "        0.30582524, 0.41747573, 0.5       , 0.46601942, 0.29126214,\n",
              "        0.41747573, 0.5       , 0.46601942, 0.28640777]),\n",
              " 'split1_test_score': array([0.41262136, 0.20873786, 0.37864078, 0.20873786, 0.41262136,\n",
              "        0.44660194, 0.41262136, 0.36893204, 0.41262136, 0.44174757,\n",
              "        0.41747573, 0.37378641, 0.41262136, 0.4223301 , 0.41747573,\n",
              "        0.32038835, 0.41262136, 0.4223301 , 0.41747573, 0.32038835,\n",
              "        0.41262136, 0.4223301 , 0.41747573, 0.28640777]),\n",
              " 'split2_test_score': array([0.37864078, 0.20873786, 0.39320388, 0.20873786, 0.37864078,\n",
              "        0.49029126, 0.50485437, 0.37378641, 0.37864078, 0.49029126,\n",
              "        0.5       , 0.3592233 , 0.37864078, 0.48543689, 0.5       ,\n",
              "        0.34951456, 0.37864078, 0.48543689, 0.5       , 0.36407767,\n",
              "        0.37864078, 0.48543689, 0.5       , 0.33495146]),\n",
              " 'split3_test_score': array([0.42718447, 0.2038835 , 0.40776699, 0.2038835 , 0.42718447,\n",
              "        0.45145631, 0.48543689, 0.38349515, 0.42718447, 0.49514563,\n",
              "        0.47572816, 0.3592233 , 0.42718447, 0.49029126, 0.47572816,\n",
              "        0.2815534 , 0.42718447, 0.49029126, 0.47572816, 0.25728155,\n",
              "        0.42718447, 0.49029126, 0.47572816, 0.25242718]),\n",
              " 'split4_test_score': array([0.45365854, 0.20487805, 0.39512195, 0.20487805, 0.45365854,\n",
              "        0.51707317, 0.48780488, 0.42926829, 0.45365854, 0.52195122,\n",
              "        0.48292683, 0.4097561 , 0.45365854, 0.49756098, 0.48780488,\n",
              "        0.34146341, 0.45365854, 0.49756098, 0.48780488, 0.30243902,\n",
              "        0.45365854, 0.49756098, 0.48780488, 0.29268293]),\n",
              " 'std_fit_time': array([0.30307794, 0.2552018 , 0.22190435, 0.22068885, 0.19995588,\n",
              "        0.56217963, 0.18670993, 0.08432297, 0.11868454, 0.11819572,\n",
              "        0.0800903 , 0.16023496, 0.14225117, 0.06110744, 0.09134546,\n",
              "        0.18296519, 0.07282051, 0.06770317, 0.09328542, 0.16018422,\n",
              "        0.08471585, 0.11033364, 0.09187921, 0.17764509]),\n",
              " 'std_score_time': array([0.06424559, 0.02290267, 0.02176897, 0.07327514, 0.03831178,\n",
              "        0.033959  , 0.01825215, 0.02329505, 0.0204522 , 0.02302182,\n",
              "        0.01698268, 0.02009662, 0.02432847, 0.01299731, 0.03120635,\n",
              "        0.01169244, 0.01746653, 0.01281912, 0.03219752, 0.03101771,\n",
              "        0.01275777, 0.03097655, 0.00955033, 0.04354941]),\n",
              " 'std_test_score': array([0.0242248 , 0.00215758, 0.00995058, 0.00215758, 0.0242248 ,\n",
              "        0.02758486, 0.0320618 , 0.0263071 , 0.0242248 , 0.03308244,\n",
              "        0.02779293, 0.02148283, 0.0242248 , 0.02886464, 0.02836443,\n",
              "        0.02453849, 0.0242248 , 0.02886464, 0.02836443, 0.03514961,\n",
              "        0.0242248 , 0.02886464, 0.02836443, 0.02631996])}"
            ]
          },
          "execution_count": 24,
          "metadata": {},
          "output_type": "execute_result"
        }
      ],
      "source": [
        "# results from GridSearchCV\n",
        "clf.cv_results_"
      ]
    },
    {
      "cell_type": "code",
      "execution_count": null,
      "metadata": {
        "colab": {
          "base_uri": "https://localhost:8080/"
        },
        "id": "6J6DFuXbCLNr",
        "outputId": "5e7954c7-ee7b-4c3c-8c2f-dc325bd063b7"
      },
      "outputs": [
        {
          "name": "stdout",
          "output_type": "stream",
          "text": [
            "0.19954648526077098\n",
            "{'C': 1, 'kernel': 'rbf'}\n",
            "              precision    recall  f1-score   support\n",
            "\n",
            "        Bach       0.54      0.41      0.47        91\n",
            "   Beethoven       0.29      0.33      0.31        78\n",
            "      Brahms       0.55      0.77      0.64        86\n",
            "      Mozart       0.66      0.56      0.61        95\n",
            "    Schubert       0.40      0.36      0.38        91\n",
            "\n",
            "    accuracy                           0.49       441\n",
            "   macro avg       0.49      0.49      0.48       441\n",
            "weighted avg       0.50      0.49      0.48       441\n",
            "\n"
          ]
        }
      ],
      "source": [
        "# print best SVM parameter after tuning\n",
        "print(clf.best_params_) \n",
        "grid_predictions = clf.predict(X_val) \n",
        "\n",
        "# print classification report \n",
        "print(classification_report(y_val, grid_predictions))"
      ]
    },
    {
      "cell_type": "code",
      "execution_count": null,
      "metadata": {
        "colab": {
          "base_uri": "https://localhost:8080/"
        },
        "id": "rAjMH0QEGJ3q",
        "outputId": "11282e93-526a-4535-9344-6bafd964f345"
      },
      "outputs": [
        {
          "name": "stderr",
          "output_type": "stream",
          "text": [
            "/usr/local/lib/python3.7/dist-packages/sklearn/utils/validation.py:985: DataConversionWarning: A column-vector y was passed when a 1d array was expected. Please change the shape of y to (n_samples, ), for example using ravel().\n",
            "  y = column_or_1d(y, warn=True)\n"
          ]
        },
        {
          "name": "stdout",
          "output_type": "stream",
          "text": [
            "0.1721311475409836\n"
          ]
        }
      ],
      "source": [
        "# refit a model with the best parameters and test SVM model on test set\n",
        "N = len(test_feat['chroma'])\n",
        "test_X = np.array(test_feat['chroma']).reshape(N,-1)\n",
        "test_y = np.array(test_feat['composer'])\n",
        "svm_chroma = SVC(C = 1, kernel = 'rbf')\n",
        "svm_chroma.fit(X_chroma,y)\n",
        "predicted_values = svm_chroma.predict(test_X)\n",
        "print(accuracy_score(test_y, predicted_values))\n"
      ]
    },
    {
      "cell_type": "code",
      "execution_count": null,
      "metadata": {
        "colab": {
          "base_uri": "https://localhost:8080/"
        },
        "id": "gj9sZb9DHjXX",
        "outputId": "51f75c17-8e16-4990-f6f5-7593ab4f2aa9"
      },
      "outputs": [
        {
          "name": "stdout",
          "output_type": "stream",
          "text": [
            "              precision    recall  f1-score   support\n",
            "\n",
            "        Bach       0.22      0.22      0.22        73\n",
            "   Beethoven       0.16      0.15      0.15        73\n",
            "      Brahms       0.17      0.19      0.18        74\n",
            "      Mozart       0.00      0.00      0.00        73\n",
            "    Schubert       0.24      0.30      0.27        73\n",
            "\n",
            "    accuracy                           0.17       366\n",
            "   macro avg       0.16      0.17      0.16       366\n",
            "weighted avg       0.16      0.17      0.16       366\n",
            "\n"
          ]
        }
      ],
      "source": [
        "# print classification report\n",
        "print(classification_report(test_y, predicted_values))"
      ]
    },
    {
      "cell_type": "markdown",
      "metadata": {
        "id": "xFaxKN83J9t_"
      },
      "source": [
        "### MFCC + Chroma as Input"
      ]
    },
    {
      "cell_type": "code",
      "execution_count": null,
      "metadata": {
        "colab": {
          "base_uri": "https://localhost:8080/"
        },
        "id": "SS01fVACKlHj",
        "outputId": "1f3ff036-9068-49b9-c1bf-4ca57b2c43af"
      },
      "outputs": [
        {
          "data": {
            "text/plain": [
              "(1470, 32)"
            ]
          },
          "execution_count": 79,
          "metadata": {},
          "output_type": "execute_result"
        }
      ],
      "source": [
        "# average features across time points and stack MFCCs with Chroma features\n",
        "avg_mfcc = np.mean(train_feat['mfcc'], axis=2)\n",
        "avg_chroma = np.mean(train_feat['chroma'], axis=2)\n",
        "mf_chroma = np.hstack((avg_mfcc, avg_chroma))\n",
        "mf_chroma.shape"
      ]
    },
    {
      "cell_type": "code",
      "execution_count": null,
      "metadata": {
        "id": "nt9zQj8SN2n1"
      },
      "outputs": [],
      "source": [
        "# redefine and split train / val set since we have a different X now\n",
        "y = np.array(train_feat['composer'])\n",
        "X_train, X_val, y_train, y_val = train_test_split(mf_chroma, y, test_size=0.3, random_state=1337)"
      ]
    },
    {
      "cell_type": "code",
      "execution_count": null,
      "metadata": {
        "colab": {
          "base_uri": "https://localhost:8080/"
        },
        "id": "Sav68TnGODG0",
        "outputId": "ddae15eb-0b2e-457a-9c21-837708d8a50c"
      },
      "outputs": [
        {
          "name": "stdout",
          "output_type": "stream",
          "text": [
            "0.8639455782312925\n"
          ]
        }
      ],
      "source": [
        "# hyperparameter tuning: find the best SVM hyperparameters using GridSearchCV (MFCCs + chroma as input)\n",
        "np.random.seed(1337)\n",
        "kernels =['linear', 'rbf', 'poly', 'sigmoid']\n",
        "c = [0.1, 0.5, 1, 6, 10, 20]\n",
        "clf = GridSearchCV(estimator= SVC(), param_grid={'C': c, 'kernel': kernels})\n",
        "\n",
        "# print validation accuracy\n",
        "clf.fit(X_train, y_train)\n",
        "y_pred = clf.predict(X_val)\n",
        "print(accuracy_score(y_val,y_pred))"
      ]
    },
    {
      "cell_type": "code",
      "execution_count": null,
      "metadata": {
        "colab": {
          "base_uri": "https://localhost:8080/"
        },
        "id": "evwHhK16Q0Ef",
        "outputId": "f0a19b9b-d7e5-4479-8c0d-8c3a615ac886"
      },
      "outputs": [
        {
          "data": {
            "text/plain": [
              "{'C': 20, 'kernel': 'linear'}"
            ]
          },
          "execution_count": 60,
          "metadata": {},
          "output_type": "execute_result"
        }
      ],
      "source": [
        "# print best SVM parameter using MFCC + chroma features as input\n",
        "clf.best_params_"
      ]
    },
    {
      "cell_type": "code",
      "execution_count": null,
      "metadata": {
        "colab": {
          "base_uri": "https://localhost:8080/"
        },
        "id": "BOTBeNqFOWD7",
        "outputId": "c87dfc86-8f60-4aa7-a379-87e08bd30a96"
      },
      "outputs": [
        {
          "name": "stdout",
          "output_type": "stream",
          "text": [
            "0.42349726775956287\n"
          ]
        }
      ],
      "source": [
        "# refit a model with the best parameters and test SVM model on test set\n",
        "test_avg_mfcc = np.mean(test_feat['mfcc'], axis=2)\n",
        "test_avg_chroma = np.mean(test_feat['chroma'], axis=2)\n",
        "test_mf_chroma = np.hstack((test_avg_mfcc, test_avg_chroma))\n",
        "test_y = np.array(test_feat['composer'])\n",
        "mod = SVC(C = 20, kernel = 'linear')\n",
        "mod.fit(mf_chroma, y)\n",
        "print(accuracy_score(test_y, mod.predict(test_mf_chroma)))"
      ]
    },
    {
      "cell_type": "code",
      "execution_count": null,
      "metadata": {
        "colab": {
          "base_uri": "https://localhost:8080/",
          "height": 206
        },
        "id": "Izj6XXHpbIGT",
        "outputId": "0c725abd-2609-4100-bf22-b8a071d1e3d2"
      },
      "outputs": [
        {
          "data": {
            "text/html": [
              "<div>\n",
              "<style scoped>\n",
              "    .dataframe tbody tr th:only-of-type {\n",
              "        vertical-align: middle;\n",
              "    }\n",
              "\n",
              "    .dataframe tbody tr th {\n",
              "        vertical-align: top;\n",
              "    }\n",
              "\n",
              "    .dataframe thead th {\n",
              "        text-align: right;\n",
              "    }\n",
              "</style>\n",
              "<table border=\"1\" class=\"dataframe\">\n",
              "  <thead>\n",
              "    <tr style=\"text-align: right;\">\n",
              "      <th></th>\n",
              "      <th>Bach</th>\n",
              "      <th>Beethoven</th>\n",
              "      <th>Brahms</th>\n",
              "      <th>Mozart</th>\n",
              "      <th>Schubert</th>\n",
              "    </tr>\n",
              "  </thead>\n",
              "  <tbody>\n",
              "    <tr>\n",
              "      <th>Bach</th>\n",
              "      <td>31</td>\n",
              "      <td>41</td>\n",
              "      <td>0</td>\n",
              "      <td>1</td>\n",
              "      <td>0</td>\n",
              "    </tr>\n",
              "    <tr>\n",
              "      <th>Beethoven</th>\n",
              "      <td>7</td>\n",
              "      <td>65</td>\n",
              "      <td>0</td>\n",
              "      <td>0</td>\n",
              "      <td>1</td>\n",
              "    </tr>\n",
              "    <tr>\n",
              "      <th>Brahms</th>\n",
              "      <td>23</td>\n",
              "      <td>49</td>\n",
              "      <td>0</td>\n",
              "      <td>0</td>\n",
              "      <td>2</td>\n",
              "    </tr>\n",
              "    <tr>\n",
              "      <th>Mozart</th>\n",
              "      <td>14</td>\n",
              "      <td>38</td>\n",
              "      <td>1</td>\n",
              "      <td>0</td>\n",
              "      <td>20</td>\n",
              "    </tr>\n",
              "    <tr>\n",
              "      <th>Schubert</th>\n",
              "      <td>2</td>\n",
              "      <td>10</td>\n",
              "      <td>2</td>\n",
              "      <td>0</td>\n",
              "      <td>59</td>\n",
              "    </tr>\n",
              "  </tbody>\n",
              "</table>\n",
              "</div>"
            ],
            "text/plain": [
              "           Bach  Beethoven  Brahms  Mozart  Schubert\n",
              "Bach         31         41       0       1         0\n",
              "Beethoven     7         65       0       0         1\n",
              "Brahms       23         49       0       0         2\n",
              "Mozart       14         38       1       0        20\n",
              "Schubert      2         10       2       0        59"
            ]
          },
          "execution_count": 83,
          "metadata": {},
          "output_type": "execute_result"
        }
      ],
      "source": [
        "# display confusion matrix for SVM w/ MFCC + chroma\n",
        "df = pd.DataFrame(confusion_matrix(test_y, mod.predict(test_mf_chroma), labels=['Bach', 'Beethoven', 'Brahms', 'Mozart', 'Schubert']), index=mod.classes_, columns=mod.classes_)\n",
        "df"
      ]
    },
    {
      "cell_type": "markdown",
      "metadata": {
        "id": "NkiPwfnrQVH-"
      },
      "source": [
        "## MLP Classifier (MFCCs + Chroma as Input)"
      ]
    },
    {
      "cell_type": "code",
      "execution_count": null,
      "metadata": {
        "colab": {
          "base_uri": "https://localhost:8080/"
        },
        "id": "gm_t4--cQTt7",
        "outputId": "05eee789-58eb-4836-8b3e-8913c6ad9862"
      },
      "outputs": [
        {
          "name": "stderr",
          "output_type": "stream",
          "text": [
            "/usr/local/lib/python3.7/dist-packages/sklearn/neural_network/_multilayer_perceptron.py:549: ConvergenceWarning: lbfgs failed to converge (status=2):\n",
            "ABNORMAL_TERMINATION_IN_LNSRCH.\n",
            "\n",
            "Increase the number of iterations (max_iter) or scale the data as shown in:\n",
            "    https://scikit-learn.org/stable/modules/preprocessing.html\n",
            "  self.n_iter_ = _check_optimize_result(\"lbfgs\", opt_res, self.max_iter)\n",
            "/usr/local/lib/python3.7/dist-packages/sklearn/neural_network/_multilayer_perceptron.py:549: ConvergenceWarning: lbfgs failed to converge (status=2):\n",
            "ABNORMAL_TERMINATION_IN_LNSRCH.\n",
            "\n",
            "Increase the number of iterations (max_iter) or scale the data as shown in:\n",
            "    https://scikit-learn.org/stable/modules/preprocessing.html\n",
            "  self.n_iter_ = _check_optimize_result(\"lbfgs\", opt_res, self.max_iter)\n",
            "/usr/local/lib/python3.7/dist-packages/sklearn/utils/extmath.py:153: RuntimeWarning: overflow encountered in matmul\n",
            "  ret = a @ b\n",
            "/usr/local/lib/python3.7/dist-packages/sklearn/neural_network/_base.py:66: RuntimeWarning: invalid value encountered in subtract\n",
            "  tmp = X - X.max(axis=1)[:, np.newaxis]\n",
            "/usr/local/lib/python3.7/dist-packages/sklearn/neural_network/_multilayer_perceptron.py:696: ConvergenceWarning: Stochastic Optimizer: Maximum iterations (2000) reached and the optimization hasn't converged yet.\n",
            "  ConvergenceWarning,\n",
            "/usr/local/lib/python3.7/dist-packages/sklearn/utils/extmath.py:153: RuntimeWarning: overflow encountered in matmul\n",
            "  ret = a @ b\n",
            "/usr/local/lib/python3.7/dist-packages/sklearn/neural_network/_base.py:66: RuntimeWarning: invalid value encountered in subtract\n",
            "  tmp = X - X.max(axis=1)[:, np.newaxis]\n",
            "/usr/local/lib/python3.7/dist-packages/sklearn/neural_network/_multilayer_perceptron.py:696: ConvergenceWarning: Stochastic Optimizer: Maximum iterations (2000) reached and the optimization hasn't converged yet.\n",
            "  ConvergenceWarning,\n",
            "/usr/local/lib/python3.7/dist-packages/sklearn/utils/extmath.py:153: RuntimeWarning: overflow encountered in matmul\n",
            "  ret = a @ b\n",
            "/usr/local/lib/python3.7/dist-packages/sklearn/neural_network/_base.py:66: RuntimeWarning: invalid value encountered in subtract\n",
            "  tmp = X - X.max(axis=1)[:, np.newaxis]\n",
            "/usr/local/lib/python3.7/dist-packages/sklearn/neural_network/_multilayer_perceptron.py:696: ConvergenceWarning: Stochastic Optimizer: Maximum iterations (2000) reached and the optimization hasn't converged yet.\n",
            "  ConvergenceWarning,\n",
            "/usr/local/lib/python3.7/dist-packages/sklearn/utils/extmath.py:153: RuntimeWarning: overflow encountered in matmul\n",
            "  ret = a @ b\n",
            "/usr/local/lib/python3.7/dist-packages/sklearn/neural_network/_base.py:66: RuntimeWarning: invalid value encountered in subtract\n",
            "  tmp = X - X.max(axis=1)[:, np.newaxis]\n",
            "/usr/local/lib/python3.7/dist-packages/sklearn/neural_network/_multilayer_perceptron.py:696: ConvergenceWarning: Stochastic Optimizer: Maximum iterations (2000) reached and the optimization hasn't converged yet.\n",
            "  ConvergenceWarning,\n",
            "/usr/local/lib/python3.7/dist-packages/sklearn/utils/extmath.py:153: RuntimeWarning: overflow encountered in matmul\n",
            "  ret = a @ b\n",
            "/usr/local/lib/python3.7/dist-packages/sklearn/neural_network/_base.py:66: RuntimeWarning: invalid value encountered in subtract\n",
            "  tmp = X - X.max(axis=1)[:, np.newaxis]\n",
            "/usr/local/lib/python3.7/dist-packages/sklearn/neural_network/_multilayer_perceptron.py:696: ConvergenceWarning: Stochastic Optimizer: Maximum iterations (2000) reached and the optimization hasn't converged yet.\n",
            "  ConvergenceWarning,\n",
            "/usr/local/lib/python3.7/dist-packages/sklearn/neural_network/_multilayer_perceptron.py:549: ConvergenceWarning: lbfgs failed to converge (status=2):\n",
            "ABNORMAL_TERMINATION_IN_LNSRCH.\n",
            "\n",
            "Increase the number of iterations (max_iter) or scale the data as shown in:\n",
            "    https://scikit-learn.org/stable/modules/preprocessing.html\n",
            "  self.n_iter_ = _check_optimize_result(\"lbfgs\", opt_res, self.max_iter)\n",
            "/usr/local/lib/python3.7/dist-packages/sklearn/neural_network/_multilayer_perceptron.py:549: ConvergenceWarning: lbfgs failed to converge (status=2):\n",
            "ABNORMAL_TERMINATION_IN_LNSRCH.\n",
            "\n",
            "Increase the number of iterations (max_iter) or scale the data as shown in:\n",
            "    https://scikit-learn.org/stable/modules/preprocessing.html\n",
            "  self.n_iter_ = _check_optimize_result(\"lbfgs\", opt_res, self.max_iter)\n",
            "/usr/local/lib/python3.7/dist-packages/sklearn/neural_network/_multilayer_perceptron.py:549: ConvergenceWarning: lbfgs failed to converge (status=2):\n",
            "ABNORMAL_TERMINATION_IN_LNSRCH.\n",
            "\n",
            "Increase the number of iterations (max_iter) or scale the data as shown in:\n",
            "    https://scikit-learn.org/stable/modules/preprocessing.html\n",
            "  self.n_iter_ = _check_optimize_result(\"lbfgs\", opt_res, self.max_iter)\n",
            "/usr/local/lib/python3.7/dist-packages/sklearn/neural_network/_multilayer_perceptron.py:549: ConvergenceWarning: lbfgs failed to converge (status=2):\n",
            "ABNORMAL_TERMINATION_IN_LNSRCH.\n",
            "\n",
            "Increase the number of iterations (max_iter) or scale the data as shown in:\n",
            "    https://scikit-learn.org/stable/modules/preprocessing.html\n",
            "  self.n_iter_ = _check_optimize_result(\"lbfgs\", opt_res, self.max_iter)\n",
            "/usr/local/lib/python3.7/dist-packages/sklearn/utils/extmath.py:153: RuntimeWarning: overflow encountered in matmul\n",
            "  ret = a @ b\n",
            "/usr/local/lib/python3.7/dist-packages/sklearn/neural_network/_base.py:66: RuntimeWarning: invalid value encountered in subtract\n",
            "  tmp = X - X.max(axis=1)[:, np.newaxis]\n",
            "/usr/local/lib/python3.7/dist-packages/sklearn/neural_network/_multilayer_perceptron.py:696: ConvergenceWarning: Stochastic Optimizer: Maximum iterations (2000) reached and the optimization hasn't converged yet.\n",
            "  ConvergenceWarning,\n",
            "/usr/local/lib/python3.7/dist-packages/sklearn/utils/extmath.py:153: RuntimeWarning: overflow encountered in matmul\n",
            "  ret = a @ b\n",
            "/usr/local/lib/python3.7/dist-packages/sklearn/neural_network/_base.py:66: RuntimeWarning: invalid value encountered in subtract\n",
            "  tmp = X - X.max(axis=1)[:, np.newaxis]\n",
            "/usr/local/lib/python3.7/dist-packages/sklearn/neural_network/_multilayer_perceptron.py:696: ConvergenceWarning: Stochastic Optimizer: Maximum iterations (2000) reached and the optimization hasn't converged yet.\n",
            "  ConvergenceWarning,\n",
            "/usr/local/lib/python3.7/dist-packages/sklearn/utils/extmath.py:153: RuntimeWarning: overflow encountered in matmul\n",
            "  ret = a @ b\n",
            "/usr/local/lib/python3.7/dist-packages/sklearn/neural_network/_base.py:66: RuntimeWarning: invalid value encountered in subtract\n",
            "  tmp = X - X.max(axis=1)[:, np.newaxis]\n"
          ]
        }
      ],
      "source": [
        "# hyperparameter tuning: find the best MLP (multi-layered perceptron) hyperparameters using GridSearchCV (MFCCs + chroma as input)\n",
        "model = GridSearchCV(MLPClassifier(max_iter=2000, random_state=1337), {'alpha':[0.001,0.01,0.1,0.5,1], 'learning_rate':['constant','invscaling','adaptive'], 'activation':['identity', 'logistic', 'tanh', 'relu'], 'solver':['lbfgs','adam','sgd']})\n",
        "model.fit(X_train, y_train)\n",
        "\n",
        "print(f'Possible emotions predicted by model:{model.classes_}')\n",
        "print(f'Unscaled MLP Model\\'s accuracy on training set is {100*model.score(X_train, y_train):.2f}%')\n",
        "print(f'Unscaled MLP Model\\'s accuracy on validation set is {100*model.score(X_val, y_val):.2f}%')"
      ]
    },
    {
      "cell_type": "code",
      "execution_count": null,
      "metadata": {
        "id": "_cQyGP_Cgez-"
      },
      "outputs": [],
      "source": [
        "# print best parameter\n",
        "print(model.best_params_)\n",
        "# print validation accuracy\n",
        "y_pred = model.predict(X_val)\n",
        "print(\"Val accuracy:\", accuracy_score(y_val,y_pred))\n",
        "\n",
        "# refit a model with the best parameters and test SVM model on test set\n",
        "test_avg_mfcc = np.mean(test_feat['mfcc'], axis=2)\n",
        "test_avg_chroma = np.mean(test_feat['chroma'], axis=2)\n",
        "test_mf_chroma = np.hstack((test_avg_mfcc, test_avg_chroma))\n",
        "test_y = np.array(test_data['composer'])\n",
        "mlp_optimized = MLPClassifier(random_state = 1337, activation='logistic', alpha=0.001, learning_rate='constant', solver='adam', max_iter=2000)\n",
        "mlp_optimized.fit(mf_chroma, y)\n",
        "predicted_values = mlp_optimized.predict(test_mf_chroma)\n",
        "print(\"Test accuracy:\", accuracy_score(test_y.ravel(), predicted_values))"
      ]
    }
  ],
  "metadata": {
    "colab": {
      "collapsed_sections": [],
      "name": "composer_classification.ipynb",
      "provenance": []
    },
    "kernelspec": {
      "display_name": "Python 3",
      "name": "python3"
    },
    "language_info": {
      "codemirror_mode": {
        "name": "ipython",
        "version": 3
      },
      "file_extension": ".py",
      "mimetype": "text/x-python",
      "name": "python",
      "nbconvert_exporter": "python",
      "pygments_lexer": "ipython3",
      "version": "3.10.11"
    }
  },
  "nbformat": 4,
  "nbformat_minor": 0
}
